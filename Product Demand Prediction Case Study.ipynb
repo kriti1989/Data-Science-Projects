{
 "cells": [
  {
   "cell_type": "markdown",
   "id": "67bc5c0d-5a23-4c4c-8ec7-e7e4b0ba65aa",
   "metadata": {},
   "source": [
    "# Case Study: Demand forecasting\n",
    "# Context: Your client is a meal delivery company which operates in multiple cities. They have various fulfillment centers in these cities for dispatching meal orders to their customers. The client wants you to help these centers with demand forecasting for upcoming weeks so that these centers will plan the stock of raw materials accordingly.\n",
    "# The replenishment of majority of raw materials is done on weekly basis and since the raw material is perishable, the procurement planning is of utmost importance. Secondly, staffing of the centers is also one area wherein accurate demand forecasts are really helpful. Given the following information, the task is to predict the demand for the next 10 weeks (Weeks: 146-155) for the center-meal combinations in the test set:\n",
    "# Historical data of demand for a product-center combination (Weeks: 1 to 145)\n",
    "# Product(Meal) features such as category, sub-category, current price and discount\n",
    "# Information for fulfillment center like center area, city information etc.\n",
    "\n",
    "## Content:\n",
    "## Weekly Demand data (train.csv): Contains the historical demand data for all centers\n",
    "## fulfilment_center_info.csv: Contains information for each fulfillment center\n",
    "## meal_info.csv: Contains information for each meal being served."
   ]
  },
  {
   "cell_type": "markdown",
   "id": "7e7249b6-9e1b-438b-a134-3d838c470da4",
   "metadata": {},
   "source": [
    "# Import the Relevant libraries and Packages"
   ]
  },
  {
   "cell_type": "code",
   "execution_count": null,
   "id": "9f522fed-55f5-458b-b0fc-12cb6f445e24",
   "metadata": {},
   "outputs": [],
   "source": [
    "import pandas as pd\n",
    "import numpy as np\n",
    "from matplotlib import pyplot as plt\n",
    "import seaborn as sns\n",
    "import plotly.graph_objects as go\n",
    "import plotly.express as px\n",
    "import plotly.offline as pyoff\n",
    "import plotly.io as pio\n",
    "from sklearn import preprocessing\n",
    "from sklearn import model_selection\n",
    "from sklearn import metrics\n",
    "from xgboost import XGBRegressor\n",
    "from xgboost import plot_importance\n",
    "from warnings import simplefilter"
   ]
  },
  {
   "cell_type": "markdown",
   "id": "1f10a7df-9c5b-4c48-8dc1-7949d87a6913",
   "metadata": {},
   "source": [
    "# Load the Dataset into dataframe"
   ]
  },
  {
   "cell_type": "code",
   "execution_count": null,
   "id": "5a5dd983-fed7-407a-9bea-f43026966feb",
   "metadata": {},
   "outputs": [],
   "source": [
    "df_fulfil_data = pd.read_csv(r'C:\\Users\\kgupta\\Desktop\\Product_Demand_Data\\fulfilment_center_info.csv')\n",
    "df_meal_data = pd.read_csv(r'C:\\Users\\kgupta\\Desktop\\Product_Demand_Data\\meal_info.csv')\n",
    "df_train_data = pd.read_csv(r'C:\\Users\\kgupta\\Desktop\\Product_Demand_Data\\train.csv')\n",
    "df_test_data = pd.read_csv(r'C:\\Users\\kgupta\\Desktop\\Product_Demand_Data\\test.csv')"
   ]
  },
  {
   "cell_type": "code",
   "execution_count": null,
   "id": "7c6241e8-08e0-4f88-9e67-b9386960ec5c",
   "metadata": {},
   "outputs": [],
   "source": [
    "df_train_data.head(5)"
   ]
  },
  {
   "cell_type": "code",
   "execution_count": null,
   "id": "62e1b3d1-ac6c-4dda-bf55-aaaf50d14622",
   "metadata": {},
   "outputs": [],
   "source": [
    "# Check the Rows and columns\n",
    "print('The rows and columns of Fulfilment_data:', format(df_fulfil_data.shape))\n",
    "print('The rows and columns of Meal_data:', format(df_meal_data.shape))\n",
    "print('The rows and columns of Training_data:', format(df_train_data.shape))\n",
    "print('The rows and columns of Testing_data:', format(df_test_data.shape))"
   ]
  },
  {
   "cell_type": "markdown",
   "id": "9189d07a-0e8e-438b-bf53-5be4e313117d",
   "metadata": {},
   "source": [
    "# Merge the Meal and Fulfillment Information into the training data"
   ]
  },
  {
   "cell_type": "code",
   "execution_count": null,
   "id": "a08ec435-1b12-4e40-ae78-e0331c5566ca",
   "metadata": {},
   "outputs": [],
   "source": [
    "merge1 = pd.merge(df_train_data, df_fulfil_data, how = \"inner\",on='center_id')\n",
    "df = pd.merge(merge1, df_meal_data, how = \"inner\",on='meal_id')"
   ]
  },
  {
   "cell_type": "code",
   "execution_count": null,
   "id": "764bb36a-6f97-42a1-9e53-95e73597ca5a",
   "metadata": {},
   "outputs": [],
   "source": [
    "df.head(5)"
   ]
  },
  {
   "cell_type": "markdown",
   "id": "7bb5cdb1-6163-42b8-a5a6-20670819af54",
   "metadata": {},
   "source": [
    "# Check the null values from dataframe"
   ]
  },
  {
   "cell_type": "code",
   "execution_count": null,
   "id": "a85e5d82-9c83-4747-89cc-13ce828f88ed",
   "metadata": {},
   "outputs": [],
   "source": [
    "df.isnull().sum()"
   ]
  },
  {
   "cell_type": "markdown",
   "id": "c0746d93-b4fd-4ba7-905a-1bf4348f65ca",
   "metadata": {},
   "source": [
    "# Check duplicated data"
   ]
  },
  {
   "cell_type": "code",
   "execution_count": null,
   "id": "4c026cab-6e47-4cad-ac32-630d88ce770d",
   "metadata": {},
   "outputs": [],
   "source": [
    "df.duplicated().sum()"
   ]
  },
  {
   "cell_type": "markdown",
   "id": "d38978e2-9d7b-49c4-9519-d33a94787dd7",
   "metadata": {},
   "source": [
    "# Study the columns and their relationship"
   ]
  },
  {
   "cell_type": "code",
   "execution_count": null,
   "id": "394bba1e-cc98-4d28-ab83-e440182c36f2",
   "metadata": {},
   "outputs": [],
   "source": [
    "df.info()"
   ]
  },
  {
   "cell_type": "code",
   "execution_count": null,
   "id": "eb045c16-e7e8-4d86-9e71-9f5e162b9598",
   "metadata": {},
   "outputs": [],
   "source": [
    "# CHeck the cuisine which is popular\n",
    "data = df['cuisine'].value_counts(normalize = True) * 100"
   ]
  },
  {
   "cell_type": "code",
   "execution_count": null,
   "id": "3f0b4498-b1c7-40ce-b3d9-75002dec6d91",
   "metadata": {},
   "outputs": [],
   "source": [
    "# Reset the Index \n",
    "data = data.reset_index()"
   ]
  },
  {
   "cell_type": "code",
   "execution_count": null,
   "id": "a4bde61a-1bba-437d-b50e-042c73e4e91d",
   "metadata": {},
   "outputs": [],
   "source": [
    "data.rename(columns = {'proportion': 'Percentage'}, inplace = True)"
   ]
  },
  {
   "cell_type": "code",
   "execution_count": null,
   "id": "cf5a9b14-efc9-4bc0-bb64-77c847f33aaa",
   "metadata": {
    "scrolled": true
   },
   "outputs": [],
   "source": [
    "# Create a Pie chart for percentage of people like which cuisine\n",
    "fig = px.pie(data , values = 'Percentage', names = 'cuisine', width=800, height=500)\n",
    "pyoff.iplot(fig)\n",
    "fig.show('notebook')"
   ]
  },
  {
   "cell_type": "markdown",
   "id": "cb3a15dc-232e-4245-9ea1-f247aedd7e82",
   "metadata": {},
   "source": [
    "# CHeck where the Maximum Orders are coming from which centre type"
   ]
  },
  {
   "cell_type": "code",
   "execution_count": null,
   "id": "a4e1bf5d-ecc8-4925-aad4-ba7602ab4d63",
   "metadata": {},
   "outputs": [],
   "source": [
    "# CHeck where the Maximum Orders are coming from which centre type\n",
    "#del data_f\n",
    "data_f = df['center_type'].value_counts(normalize = True) * 100\n",
    "# Reset the Index\n",
    "data_f = pd.DataFrame(data_f)\n",
    "\n",
    "data_f = data_f.reset_index()"
   ]
  },
  {
   "cell_type": "code",
   "execution_count": null,
   "id": "56505ae2-d237-4df0-812f-e5c6d4b35c74",
   "metadata": {},
   "outputs": [],
   "source": [
    "# Rename the column\n",
    "data_f.rename(columns = {'proportion': 'Percentage'}, inplace = True) \n",
    "data_f.columns"
   ]
  },
  {
   "cell_type": "markdown",
   "id": "211902e5-c73b-41cd-9be4-c6ce6466ef10",
   "metadata": {},
   "source": [
    "# Create a Pie chart for percentage of orders from which center type"
   ]
  },
  {
   "cell_type": "code",
   "execution_count": null,
   "id": "97ef7145-ad13-4f78-ad16-3a7bf6acc012",
   "metadata": {
    "scrolled": true
   },
   "outputs": [],
   "source": [
    "# Create a Pie chart for percentage of orders from which center type\n",
    "fig = px.pie(data_f , values = 'Percentage', names = 'center_type', width=800, height=500)\n",
    "pyoff.iplot(fig)\n",
    "fig.show(\"notebook\")"
   ]
  },
  {
   "cell_type": "markdown",
   "id": "c13798af-5bea-4109-a2d3-10434a2b3263",
   "metadata": {},
   "source": [
    "# Check the maximum orders placed for which category"
   ]
  },
  {
   "cell_type": "code",
   "execution_count": null,
   "id": "f38f9710-66d8-48aa-8206-0596b588fa9b",
   "metadata": {
    "scrolled": true
   },
   "outputs": [],
   "source": [
    "# Check the maximum orders placed for which category\n",
    "df_cat = df['category'].value_counts(normalize = True) *  100\n",
    "df_cat = df_cat.reset_index()\n",
    "df_cat.rename(columns = {'proportion': 'Percentage'}, inplace = True) \n",
    "fig = px.pie(df_cat , values = 'Percentage', names = 'category', width=800, height=500)\n",
    "pyoff.iplot(fig)\n",
    "fig.show(\"notebook\")"
   ]
  },
  {
   "cell_type": "markdown",
   "id": "f29820cd-6d20-4a5b-9b68-7d07d160b213",
   "metadata": {},
   "source": [
    "# Check for relationship between week and num of orders sold"
   ]
  },
  {
   "cell_type": "code",
   "execution_count": null,
   "id": "0d00c84a-0e51-411b-bd8f-b37e81c31726",
   "metadata": {
    "scrolled": true
   },
   "outputs": [],
   "source": [
    "# Check for relationship between week and num of orders sold\n",
    "data_ord = df.groupby(['week'])['num_orders'].sum()\n",
    "data_ord = pd.DataFrame(data_ord)\n",
    "plot_data = go.Scatter(x = data_ord.index, y = data_ord['num_orders'], name = 'Time Series for num_orders',\n",
    "           marker = dict(color = 'Blue'))\n",
    "plot_layout = go.Layout(title = 'Total orders per week', yaxis_title = 'Total Orders', xaxis_title = 'Week')\n",
    "Fig = go.Figure(data = plot_data, layout = plot_layout)\n",
    "pyoff.iplot(Fig)\n",
    "fig.show(\"notebook\")"
   ]
  },
  {
   "cell_type": "code",
   "execution_count": null,
   "id": "8ea8b901-8407-426f-a2e2-6cb11ebb74df",
   "metadata": {
    "scrolled": true
   },
   "outputs": [],
   "source": [
    "cat_var = ['center_type','category','cuisine']\n",
    "for i in cat_var:\n",
    "    grp = df.groupby([i])\n",
    "    grp = pd.DataFrame(grp)\n",
    "    lis  = grp[0]\n",
    "    x = 0\n",
    "    for j in lis:\n",
    "        s  = list(j) \n",
    "        s_data = df[df[i] == s[0].strip(',')]\n",
    "        data = pd.DataFrame(s_data)\n",
    "        tot_orders = s_data.groupby(['week'])['num_orders'].sum()\n",
    "        tot_orders = pd.DataFrame(tot_orders)\n",
    "        data_plot  = [go.Scatter(x = tot_orders.index, y = tot_orders['num_orders'], name = 'Time series for num_orders for:' +s[0].strip(','), \n",
    "                                marker = dict(color = 'Blue'))]\n",
    "        data_layout = go.Layout(title = 'Total order per week:' +s[0].strip(','), yaxis_title = 'Total Orders',xaxis_title = 'Week')\n",
    "        fig = go.Figure(data = data_plot, layout = data_layout)\n",
    "        x+=1\n",
    "        pyoff.iplot(fig)\n",
    "        fig.show(\"notebook\")"
   ]
  },
  {
   "cell_type": "markdown",
   "id": "eb272b10-1115-4058-8650-00aad42a292b",
   "metadata": {},
   "source": [
    "# Check the relationship between number of orders for particular cuisine from each location"
   ]
  },
  {
   "cell_type": "code",
   "execution_count": null,
   "id": "ec1196c9-aa34-4446-84e3-3dadc51559b8",
   "metadata": {
    "scrolled": true
   },
   "outputs": [],
   "source": [
    "# Check the relationship between number of orders for particular cuisine from each location\n",
    "grp = df.groupby(['category','center_type'])['num_orders'].sum()\n",
    "grp = pd.DataFrame(grp) \n",
    "grp = grp.reset_index()\n",
    "fig = px.bar(grp, x = 'center_type', y = 'num_orders', color = 'category', title = 'Total Orders for particular cuisine from each location')\n",
    "pyoff.iplot(fig)\n",
    "fig.show(\"notebook\")"
   ]
  },
  {
   "cell_type": "markdown",
   "id": "92fb61eb-7e1c-4341-b45f-d2430768ec12",
   "metadata": {},
   "source": [
    "# Check the relationship between number of orders for particular cuisine from center location"
   ]
  },
  {
   "cell_type": "code",
   "execution_count": null,
   "id": "9bd21936-b972-4201-8976-7a639d790194",
   "metadata": {
    "scrolled": true
   },
   "outputs": [],
   "source": [
    "# Check the relationship between number of orders for particular cuisine from center location\n",
    "grps = df.groupby(['category','center_id'])['num_orders'].sum()\n",
    "grps = pd.DataFrame(grps) \n",
    "grps = grps.reset_index()\n",
    "fig_1 = px.bar(grps, x = 'center_id', y = 'num_orders', color = 'category',title = 'Total Orders for each cuisine from center location')  \n",
    "pyoff.iplot(fig_1)\n",
    "fig.show(\"notebook\")"
   ]
  },
  {
   "cell_type": "markdown",
   "id": "578b4a8a-eb74-4cc4-95df-9eca435b8fb9",
   "metadata": {},
   "source": [
    "# Check the relationship between number of orders for particular cuisine from center location"
   ]
  },
  {
   "cell_type": "code",
   "execution_count": null,
   "id": "d5825289-5e9a-474f-a5e4-7c302ad2d24f",
   "metadata": {
    "scrolled": true
   },
   "outputs": [],
   "source": [
    "# Check the relationship between number of orders for particular cuisine from center location\n",
    "cat_var = ['center_type']\n",
    "for i in cat_var:\n",
    "    grp = df.groupby([i])\n",
    "    grp = pd.DataFrame(grp)\n",
    "    lis  = grp[0]\n",
    "    x = 0\n",
    "    data_plot=[]\n",
    "    for j in lis:\n",
    "        s  = list(j) \n",
    "        s_data = df[df[i] == s[0].strip(',')]\n",
    "        data = pd.DataFrame(s_data)\n",
    "        tot_orders = s_data.groupby(['week'])['num_orders'].sum()\n",
    "        tot_orders = pd.DataFrame(tot_orders)\n",
    "        data_plot.append(go.Scatter(x = tot_orders.index, y = tot_orders['num_orders'],name = s[0].strip(','))) \n",
    "        x+=1\n",
    "    data_layout = go.Layout(title = 'Total order per week based on center type', yaxis_title = 'Total Orders', xaxis_title = 'Week')\n",
    "    fig = go.Figure(data = data_plot, layout = data_layout)\n",
    "    pyoff.iplot(fig)\n",
    "    fig.show(\"notebook\")"
   ]
  },
  {
   "cell_type": "markdown",
   "id": "fc40318a-1b54-42f3-9954-484c256e5313",
   "metadata": {},
   "source": [
    "# CHeck if data have any correlation"
   ]
  },
  {
   "cell_type": "code",
   "execution_count": null,
   "id": "c85bfe03-b208-46d3-8c1c-28022104dcfc",
   "metadata": {},
   "outputs": [],
   "source": [
    "# CHeck if data have any correlation\n",
    "df_copy = df\n",
    "df_copy = df_copy.drop(columns = ['center_type','category','cuisine'])\n",
    "cormat = df_copy.corr()\n",
    "fig = plt.figure(figsize = (12,5))\n",
    "sns.heatmap(cormat, annot = True)\n",
    "plt.show()"
   ]
  },
  {
   "cell_type": "markdown",
   "id": "4850f52e-e473-4c81-8999-e39e41807433",
   "metadata": {},
   "source": [
    "# Inferences: Checkout_price, base_price show negative correlation while emailer_promotion and homepage_feature show positive correlation with num_orders."
   ]
  },
  {
   "cell_type": "code",
   "execution_count": null,
   "id": "4800a9da-6e76-48dc-bd43-80d57c135015",
   "metadata": {},
   "outputs": [],
   "source": [
    "grped_data = df.groupby(['category','cuisine'])['num_orders'].sum()\n",
    "cat_cu_sc = grped_data.unstack().fillna(0)\n",
    "cat_cu_sc"
   ]
  },
  {
   "cell_type": "markdown",
   "id": "752e4c57-060d-49ff-8080-9c268768a8ed",
   "metadata": {},
   "source": [
    "# Create a bar plot between category, cuisine and number of Orders"
   ]
  },
  {
   "cell_type": "code",
   "execution_count": null,
   "id": "12e2c23d-a9c1-4aeb-a2a7-1695c98fb7d2",
   "metadata": {},
   "outputs": [],
   "source": [
    "# Create a bar plot\n",
    "ax = cat_cu_sc.plot(kind ='bar', figsize = (7,5),grid=True)\n",
    "ax.set_ylabel('count')"
   ]
  },
  {
   "cell_type": "markdown",
   "id": "f669cf5d-7e36-415b-b569-53105567591e",
   "metadata": {},
   "source": [
    "# Graph between Number of Orders and Checkout Price"
   ]
  },
  {
   "cell_type": "code",
   "execution_count": null,
   "id": "f1f939b5-0009-40b0-a8d1-99ca9abf3ed0",
   "metadata": {},
   "outputs": [],
   "source": [
    "# Graph between Number of Orders and Checkout Price\n",
    "plt.scatter(x = df['num_orders'], y = df['checkout_price'])\n",
    "plt.xlabel('Number of Orders')\n",
    "plt.ylabel('Checkout Price')\n",
    "plt.show()"
   ]
  },
  {
   "cell_type": "markdown",
   "id": "193d563f-d97c-41aa-b2ac-644781934351",
   "metadata": {},
   "source": [
    "# Graph between Number of Orders and Base Price"
   ]
  },
  {
   "cell_type": "code",
   "execution_count": null,
   "id": "f6071162-5974-46ff-b89a-0bde5865dd87",
   "metadata": {},
   "outputs": [],
   "source": [
    "# Graph between Number of Orders and Base Price\n",
    "plt.scatter(x = df['num_orders'], y = df['base_price'])\n",
    "plt.xlabel('Number of Orders')\n",
    "plt.ylabel('Base Price')\n",
    "plt.show()"
   ]
  },
  {
   "cell_type": "markdown",
   "id": "4bb318bb-01b9-4202-b29c-c32070a533e5",
   "metadata": {},
   "source": [
    "# Converting Categorical data to numerical for Model use"
   ]
  },
  {
   "cell_type": "code",
   "execution_count": null,
   "id": "46725b0b-8e02-4c12-ac8d-b51a63bc01b4",
   "metadata": {},
   "outputs": [],
   "source": [
    "df_copy = df.copy()\n",
    "X_copy = df[['center_type','cuisine']]\n",
    "X_copy = pd.get_dummies(X_copy,drop_first=True)\n",
    "df_copy.reset_index(drop = True,inplace = True)\n",
    "X_copy.reset_index(drop = True,inplace = True)\n",
    "df_copy = pd.concat([df_copy,X_copy],axis = 1 )\n"
   ]
  },
  {
   "cell_type": "markdown",
   "id": "0b29adbc-89ab-43c5-9f7a-d04e30cdad73",
   "metadata": {},
   "source": [
    "# Drop the Categorical columns"
   ]
  },
  {
   "cell_type": "code",
   "execution_count": null,
   "id": "66f2930b-45d2-4807-b80d-f72cb8f10cf3",
   "metadata": {},
   "outputs": [],
   "source": [
    "df_copy = df_copy.drop(columns = ['category','cuisine','center_type'])"
   ]
  },
  {
   "cell_type": "code",
   "execution_count": null,
   "id": "f122b2cf-5177-4601-ba8c-2ae473f2876e",
   "metadata": {},
   "outputs": [],
   "source": [
    "# Seperate the Features \n",
    "X = df_copy.copy()\n",
    "y = np.array(df_copy['num_orders'])"
   ]
  },
  {
   "cell_type": "markdown",
   "id": "e551e39e-9e81-472c-8217-b6beeb257547",
   "metadata": {},
   "source": [
    "# Drop the y feature from X"
   ]
  },
  {
   "cell_type": "code",
   "execution_count": null,
   "id": "cd1e5cb3-18ad-4b1b-9076-a73d10414d69",
   "metadata": {},
   "outputs": [],
   "source": [
    "X = X.drop(columns =['num_orders','id','center_type_TYPE_B','center_type_TYPE_C','cuisine_Indian','cuisine_Italian','cuisine_Thai'])"
   ]
  },
  {
   "cell_type": "markdown",
   "id": "3db4169e-2a70-44a3-8b97-6454fdbf7292",
   "metadata": {},
   "source": [
    "# Transform the data on comman scale to avoid outliers"
   ]
  },
  {
   "cell_type": "code",
   "execution_count": null,
   "id": "9b577835-0f4a-414c-825c-4230244ad592",
   "metadata": {},
   "outputs": [],
   "source": [
    "X_scaled = preprocessing.RobustScaler().fit_transform(X)"
   ]
  },
  {
   "cell_type": "markdown",
   "id": "2aaf7154-16c5-4b71-8ecc-09635fd468ca",
   "metadata": {},
   "source": [
    "# Split the data into training and test set"
   ]
  },
  {
   "cell_type": "code",
   "execution_count": null,
   "id": "977407e1-2c1f-46d0-8a0c-4d05c720767e",
   "metadata": {},
   "outputs": [],
   "source": [
    "# Divide the data into train and test data\n",
    "X_train, X_test,y_train, y_test = model_selection.train_test_split(X_scaled, y, test_size = 0.30, random_state = 42)"
   ]
  },
  {
   "cell_type": "code",
   "execution_count": null,
   "id": "bd7b4101-04cb-41dd-a36d-642a6f6f0162",
   "metadata": {},
   "outputs": [],
   "source": [
    "# Instatiate the Xgb classifier\n",
    "xgb = XGBRegressor(objective=\"reg:linear\", random_state=42)"
   ]
  },
  {
   "cell_type": "code",
   "execution_count": null,
   "id": "5b4e7690-2979-4b8d-99e6-4b39b624b379",
   "metadata": {},
   "outputs": [],
   "source": [
    "xgb.fit(X_train, y_train)"
   ]
  },
  {
   "cell_type": "code",
   "execution_count": null,
   "id": "c24ea48d-62cc-4e41-af26-72d240c337d3",
   "metadata": {},
   "outputs": [],
   "source": [
    "y_pred = xgb.predict(X_test)"
   ]
  },
  {
   "cell_type": "code",
   "execution_count": null,
   "id": "89dc0504-1e2a-4ad5-9d5d-4b325ee5a752",
   "metadata": {},
   "outputs": [],
   "source": [
    "mse= metrics.mean_squared_error(y_test, y_pred)"
   ]
  },
  {
   "cell_type": "code",
   "execution_count": null,
   "id": "60ed22c7-a52f-4c39-bb64-08795de23fc0",
   "metadata": {},
   "outputs": [],
   "source": [
    "print('Root Mean Squared Error for XGBoost:', np.sqrt(metrics.mean_squared_error(y_test, y_pred)))"
   ]
  },
  {
   "cell_type": "code",
   "execution_count": null,
   "id": "657d6fcf-b3b3-44b4-9e21-f086df1493a4",
   "metadata": {},
   "outputs": [],
   "source": [
    "plt.figure(figsize=(17, 8))\n",
    "plt.plot(y_test, label=\"actual\")\n",
    "plt.plot(y_pred, color='red', label=\"predicted\")\n",
    "plt.legend(loc='best')\n",
    "plt.show()"
   ]
  },
  {
   "cell_type": "markdown",
   "id": "b3f86d67-8b68-4029-a244-6cd136c4766c",
   "metadata": {},
   "source": [
    "# Plot the Feature Importance"
   ]
  },
  {
   "cell_type": "code",
   "execution_count": null,
   "id": "3b39fc5b-18f1-4ec4-a92c-c95dee042698",
   "metadata": {},
   "outputs": [],
   "source": [
    "# plot the Feature Importance\n",
    "feature_importances = pd.Series(xgb.feature_importances_)\n",
    "index = X.columns\n",
    "new_frame = pd.DataFrame({'Feature_Importances': list(feature_importances)}, index = index)\n",
    "new_frame.plot.barh()"
   ]
  },
  {
   "cell_type": "markdown",
   "id": "e2d1b30a-d29a-40ac-8c1c-efdbfaea90b8",
   "metadata": {},
   "source": [
    "# Instatiate the Random Forest classifier"
   ]
  },
  {
   "cell_type": "code",
   "execution_count": null,
   "id": "161359f2-d172-40b4-8f4b-0a7be5f64fec",
   "metadata": {},
   "outputs": [],
   "source": [
    "# Instatiate the Random Forest classifier\n",
    "from sklearn import ensemble \n",
    "Rfr = ensemble.RandomForestRegressor(n_estimators = 100, random_state = 42) "
   ]
  },
  {
   "cell_type": "code",
   "execution_count": null,
   "id": "cf54da65-2427-4594-97ff-afceb811bd06",
   "metadata": {},
   "outputs": [],
   "source": [
    "Rfr.fit(X_train, y_train)"
   ]
  },
  {
   "cell_type": "code",
   "execution_count": null,
   "id": "bd4490f9-376d-48bc-8755-ac099238e187",
   "metadata": {},
   "outputs": [],
   "source": [
    "y_pred = Rfr.predict(X_test)"
   ]
  },
  {
   "cell_type": "code",
   "execution_count": null,
   "id": "d34cc9e2-254b-46d8-8ba4-be0103e5f715",
   "metadata": {},
   "outputs": [],
   "source": [
    "print('Root Mean Squared Error for Random Forest Regressor:', np.sqrt(metrics.mean_squared_error(y_test, y_pred)))"
   ]
  },
  {
   "cell_type": "code",
   "execution_count": null,
   "id": "7cdc87b8-1b21-4825-a1a6-43304b5576a0",
   "metadata": {},
   "outputs": [],
   "source": [
    "plt.figure(figsize= (12,7))\n",
    "plt.plot(y_test, label = 'actual')\n",
    "plt.plot(y_pred, label = 'predicted', color ='red')\n",
    "plt.legend(loc ='best')\n",
    "plt.plot()"
   ]
  },
  {
   "cell_type": "code",
   "execution_count": null,
   "id": "6797b5a0-704a-4c78-8681-fd17efb1896d",
   "metadata": {},
   "outputs": [],
   "source": [
    "# plot the Feature Importance\n",
    "importances = Rfr.feature_importances_\n",
    "std = np.std([tree.feature_importances_ for tree in Rfr.estimators_], axis=0)\n",
    "forest_importances = pd.Series(importances, index=X.columns)\n",
    "fig, ax = plt.subplots()\n",
    "forest_importances.plot.bar(yerr=std, ax=ax)\n",
    "ax.set_title(\"Feature importances using MDI\")\n",
    "ax.set_ylabel(\"Mean decrease in impurity\")\n",
    "fig.tight_layout()"
   ]
  },
  {
   "cell_type": "markdown",
   "id": "47138205-a40e-4eb5-9d55-32807b48f402",
   "metadata": {},
   "source": [
    "# Instatiate the Decision Tree classifier"
   ]
  },
  {
   "cell_type": "code",
   "execution_count": null,
   "id": "44250cf5-9093-45e6-9b50-3c406cb6e0a9",
   "metadata": {},
   "outputs": [],
   "source": [
    "# Instatiate the Decision Tree classifier\n",
    "from sklearn import tree \n",
    "Dtr = tree.DecisionTreeRegressor(random_state = 42) "
   ]
  },
  {
   "cell_type": "code",
   "execution_count": null,
   "id": "ea0e1ada-b62d-4267-b2c2-a4f6e9f094e6",
   "metadata": {},
   "outputs": [],
   "source": [
    "Dtr.fit(X_train,y_train)"
   ]
  },
  {
   "cell_type": "code",
   "execution_count": null,
   "id": "1e8a5770-c0f7-4646-bd77-2f6929ae1c3b",
   "metadata": {},
   "outputs": [],
   "source": [
    "y_pred = Dtr.predict(X_test)"
   ]
  },
  {
   "cell_type": "code",
   "execution_count": null,
   "id": "f8845026-00e2-485c-8cfc-ad03856144cd",
   "metadata": {},
   "outputs": [],
   "source": [
    "print('Root Mean Squared Error for Decision Tree:', np.sqrt(metrics.mean_squared_error(y_test, y_pred)))"
   ]
  },
  {
   "cell_type": "markdown",
   "id": "f93c58ae-6573-4b73-b2ce-f038d7f5d66d",
   "metadata": {},
   "source": [
    "# Implementing the Random Forest on required dataset"
   ]
  },
  {
   "cell_type": "code",
   "execution_count": null,
   "id": "faeef015-8b46-4178-aaee-a80439831c9f",
   "metadata": {},
   "outputs": [],
   "source": [
    "training = df.loc[:, ['week', 'center_id', 'meal_id', 'checkout_price', 'base_price',\n",
    "       'emailer_for_promotion', 'homepage_featured','num_orders']] "
   ]
  },
  {
   "cell_type": "code",
   "execution_count": null,
   "id": "e218c886-356b-4067-abbf-dc91489faa81",
   "metadata": {},
   "outputs": [],
   "source": [
    "training"
   ]
  },
  {
   "cell_type": "code",
   "execution_count": null,
   "id": "01f24b02-94f0-4ab3-bf4a-db1bdeadde14",
   "metadata": {},
   "outputs": [],
   "source": [
    "X_train = training.drop(['num_orders'], axis=1).values\n",
    "y_train = training['num_orders'].values\n",
    "X_test = df_test_data.drop(['id'],axis=1).values"
   ]
  },
  {
   "cell_type": "code",
   "execution_count": null,
   "id": "b534228d-2c8b-4366-a4fe-2e13a49b6a0a",
   "metadata": {},
   "outputs": [],
   "source": [
    "from sklearn import ensemble \n",
    "Rfr = ensemble.RandomForestRegressor(n_estimators = 100, random_state = 42) \n",
    "Rfr.fit(X_train, y_train)\n",
    "y_pred = Rfr.predict(X_test)\n",
    "ypred = pd.DataFrame(y_pred)"
   ]
  },
  {
   "cell_type": "code",
   "execution_count": null,
   "id": "650887a4-4c8b-42a0-a71b-0a350049bea4",
   "metadata": {},
   "outputs": [],
   "source": [
    "predictions = pd.merge(df_test_data,ypred,left_index = True, right_index = True,how ='inner')"
   ]
  },
  {
   "cell_type": "code",
   "execution_count": null,
   "id": "720aeede-12f7-401d-981d-28a71807b256",
   "metadata": {},
   "outputs": [],
   "source": [
    "predictions.head(5)"
   ]
  },
  {
   "cell_type": "code",
   "execution_count": null,
   "id": "ee70641e-47ca-4396-b3e6-868b350a1f7b",
   "metadata": {},
   "outputs": [],
   "source": [
    "predictions['num_orders'] = predictions[0]"
   ]
  },
  {
   "cell_type": "code",
   "execution_count": null,
   "id": "970b3fb9-6dc3-4f24-bef0-a1c5fa04f9c7",
   "metadata": {},
   "outputs": [],
   "source": [
    "predictions = predictions.drop(columns =[0])"
   ]
  },
  {
   "cell_type": "code",
   "execution_count": null,
   "id": "d3959c3f-8dfb-4c13-8c7e-20139b6250fb",
   "metadata": {},
   "outputs": [],
   "source": [
    "ts_ord_pred = predictions.groupby(['week'])['num_orders'].sum()\n",
    "ts_ord_pred = pd.DataFrame(ts_ord_pred)"
   ]
  },
  {
   "cell_type": "code",
   "execution_count": null,
   "id": "603f0bd7-1b18-47a9-bf4f-0ce320194022",
   "metadata": {},
   "outputs": [],
   "source": [
    "plot_data = [go.Scatter(x=data_ord.index, y = data_ord['num_orders'],\n",
    "                        name = 'Actual',\n",
    "                        marker = dict(color = 'Blue')),\n",
    "             go.Scatter(x = ts_ord_pred.index, y = ts_ord_pred['num_orders'],\n",
    "                        name = 'Predicted',\n",
    "                        marker = dict(color = 'Red'))\n",
    "                        ]\n",
    "plot_layout = go.Layout(title = 'Total Orders per week',\n",
    "                        yaxis_title = 'Total Orders',\n",
    "                        xaxis_title = 'Week')\n",
    "\n",
    "fig = go.Figure(data = plot_data,layout =plot_layout)\n",
    "pyoff.iplot(fig)"
   ]
  }
 ],
 "metadata": {
  "kernelspec": {
   "display_name": "Python 3 (ipykernel)",
   "language": "python",
   "name": "python3"
  },
  "language_info": {
   "codemirror_mode": {
    "name": "ipython",
    "version": 3
   },
   "file_extension": ".py",
   "mimetype": "text/x-python",
   "name": "python",
   "nbconvert_exporter": "python",
   "pygments_lexer": "ipython3",
   "version": "3.11.7"
  }
 },
 "nbformat": 4,
 "nbformat_minor": 5
}
