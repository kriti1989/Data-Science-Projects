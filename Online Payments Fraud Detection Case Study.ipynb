{
 "cells": [
  {
   "cell_type": "markdown",
   "id": "65559151-85ed-4d28-8a81-d1d96180e7a0",
   "metadata": {},
   "source": [
    "# Project Name: Online Payments Fraud Detection\n",
    "# Project Description:\n",
    "# The introduction of online payment systems has helped a lot in the ease of payments. But, at the same time, it increased payment fraud. Online \n",
    "# Payment fraud can happen with anyone using any payment system, especially while making payments using a credit card. That is why detecting online \n",
    "# Payment fraud is very important for credit card companies to ensure that the customers are not getting charged for the products and services they never paid. \n",
    "# To identify online payment fraud with machine learning, we need to train a machine-learning model for classifying fraudulent and non-fraudulent payments.\n",
    "# Dataset: The data for online Fraud Detection can be downloaded from Kaggle https://www.kaggle.com/datasets/rupakroy/online-payments-fraud-detection-dataset.\n",
    "# Below are all the columns from the dataset I’m using here:\n",
    "### 1. Step: represents a unit of time where 1 step equals 1 hour\n",
    "### 2. type: type of online transaction\n",
    "### 3. Amountt: the amount of thetransactionn\n",
    "### 4. nameOrig: customer starting transaction\n",
    "### 5.oldbalanceOrg: balance before the transaction\n",
    "### 6.newbalanceOrig: balance after the transaction\n",
    "### 7.nameDest: recipient of the transaction\n",
    "### 8.oldbalanceDest:initial balance of recipient before the transaction\n",
    "### 9.newbalanceDest: the new balance of recipient after the transaction\n",
    "### 10.isFraud: fraud transactionn\n"
   ]
  },
  {
   "cell_type": "markdown",
   "id": "da2fbe81-9293-4e03-a223-9bfa7ce53114",
   "metadata": {},
   "source": [
    "# Import all the libraries and packages required for this Case Study."
   ]
  },
  {
   "cell_type": "code",
   "execution_count": 84,
   "id": "2587ca6f-c5cb-48ea-ad05-5c9098224bae",
   "metadata": {},
   "outputs": [],
   "source": [
    "import pandas as pd\n",
    "import numpy as np\n",
    "from matplotlib import pyplot as plt\n",
    "import seaborn as sns\n",
    "from sklearn import preprocessing\n",
    "from sklearn import metrics\n",
    "from sklearn import model_selection\n",
    "from sklearn.ensemble import RandomForestClassifier\n",
    "from sklearn.tree import DecisionTreeClassifier\n",
    "from imblearn.over_sampling import SMOTE\n"
   ]
  },
  {
   "cell_type": "markdown",
   "id": "54f53f84-7500-48f3-a527-cef63ecce002",
   "metadata": {},
   "source": [
    "# Load the data into dataframe"
   ]
  },
  {
   "cell_type": "code",
   "execution_count": 62,
   "id": "d2d43f6f-af86-40e5-8a94-08a768d4aab0",
   "metadata": {},
   "outputs": [],
   "source": [
    "df_info = pd.read_csv(r'C:\\Users\\kgupta\\Desktop\\Online_Fraud_Payment_Data.csv')"
   ]
  },
  {
   "cell_type": "markdown",
   "id": "8f5fc11e-f7cf-4a0b-93d0-457f1cb3a936",
   "metadata": {},
   "source": [
    "# Describe the data and explore all the columns and their types etc."
   ]
  },
  {
   "cell_type": "code",
   "execution_count": 63,
   "id": "5aebcbd3-2c14-41e6-8f69-3a86be3264b7",
   "metadata": {},
   "outputs": [
    {
     "data": {
      "text/html": [
       "<div>\n",
       "<style scoped>\n",
       "    .dataframe tbody tr th:only-of-type {\n",
       "        vertical-align: middle;\n",
       "    }\n",
       "\n",
       "    .dataframe tbody tr th {\n",
       "        vertical-align: top;\n",
       "    }\n",
       "\n",
       "    .dataframe thead th {\n",
       "        text-align: right;\n",
       "    }\n",
       "</style>\n",
       "<table border=\"1\" class=\"dataframe\">\n",
       "  <thead>\n",
       "    <tr style=\"text-align: right;\">\n",
       "      <th></th>\n",
       "      <th>step</th>\n",
       "      <th>amount</th>\n",
       "      <th>oldbalanceOrg</th>\n",
       "      <th>newbalanceOrig</th>\n",
       "      <th>oldbalanceDest</th>\n",
       "      <th>newbalanceDest</th>\n",
       "      <th>isFraud</th>\n",
       "      <th>isFlaggedFraud</th>\n",
       "    </tr>\n",
       "  </thead>\n",
       "  <tbody>\n",
       "    <tr>\n",
       "      <th>count</th>\n",
       "      <td>6.362620e+06</td>\n",
       "      <td>6.362620e+06</td>\n",
       "      <td>6.362620e+06</td>\n",
       "      <td>6.362620e+06</td>\n",
       "      <td>6.362620e+06</td>\n",
       "      <td>6.362620e+06</td>\n",
       "      <td>6.362620e+06</td>\n",
       "      <td>6.362620e+06</td>\n",
       "    </tr>\n",
       "    <tr>\n",
       "      <th>mean</th>\n",
       "      <td>2.433972e+02</td>\n",
       "      <td>1.798619e+05</td>\n",
       "      <td>8.338831e+05</td>\n",
       "      <td>8.551137e+05</td>\n",
       "      <td>1.100702e+06</td>\n",
       "      <td>1.224996e+06</td>\n",
       "      <td>1.290820e-03</td>\n",
       "      <td>2.514687e-06</td>\n",
       "    </tr>\n",
       "    <tr>\n",
       "      <th>std</th>\n",
       "      <td>1.423320e+02</td>\n",
       "      <td>6.038582e+05</td>\n",
       "      <td>2.888243e+06</td>\n",
       "      <td>2.924049e+06</td>\n",
       "      <td>3.399180e+06</td>\n",
       "      <td>3.674129e+06</td>\n",
       "      <td>3.590480e-02</td>\n",
       "      <td>1.585775e-03</td>\n",
       "    </tr>\n",
       "    <tr>\n",
       "      <th>min</th>\n",
       "      <td>1.000000e+00</td>\n",
       "      <td>0.000000e+00</td>\n",
       "      <td>0.000000e+00</td>\n",
       "      <td>0.000000e+00</td>\n",
       "      <td>0.000000e+00</td>\n",
       "      <td>0.000000e+00</td>\n",
       "      <td>0.000000e+00</td>\n",
       "      <td>0.000000e+00</td>\n",
       "    </tr>\n",
       "    <tr>\n",
       "      <th>25%</th>\n",
       "      <td>1.560000e+02</td>\n",
       "      <td>1.338957e+04</td>\n",
       "      <td>0.000000e+00</td>\n",
       "      <td>0.000000e+00</td>\n",
       "      <td>0.000000e+00</td>\n",
       "      <td>0.000000e+00</td>\n",
       "      <td>0.000000e+00</td>\n",
       "      <td>0.000000e+00</td>\n",
       "    </tr>\n",
       "    <tr>\n",
       "      <th>50%</th>\n",
       "      <td>2.390000e+02</td>\n",
       "      <td>7.487194e+04</td>\n",
       "      <td>1.420800e+04</td>\n",
       "      <td>0.000000e+00</td>\n",
       "      <td>1.327057e+05</td>\n",
       "      <td>2.146614e+05</td>\n",
       "      <td>0.000000e+00</td>\n",
       "      <td>0.000000e+00</td>\n",
       "    </tr>\n",
       "    <tr>\n",
       "      <th>75%</th>\n",
       "      <td>3.350000e+02</td>\n",
       "      <td>2.087215e+05</td>\n",
       "      <td>1.073152e+05</td>\n",
       "      <td>1.442584e+05</td>\n",
       "      <td>9.430367e+05</td>\n",
       "      <td>1.111909e+06</td>\n",
       "      <td>0.000000e+00</td>\n",
       "      <td>0.000000e+00</td>\n",
       "    </tr>\n",
       "    <tr>\n",
       "      <th>max</th>\n",
       "      <td>7.430000e+02</td>\n",
       "      <td>9.244552e+07</td>\n",
       "      <td>5.958504e+07</td>\n",
       "      <td>4.958504e+07</td>\n",
       "      <td>3.560159e+08</td>\n",
       "      <td>3.561793e+08</td>\n",
       "      <td>1.000000e+00</td>\n",
       "      <td>1.000000e+00</td>\n",
       "    </tr>\n",
       "  </tbody>\n",
       "</table>\n",
       "</div>"
      ],
      "text/plain": [
       "               step        amount  oldbalanceOrg  newbalanceOrig  \\\n",
       "count  6.362620e+06  6.362620e+06   6.362620e+06    6.362620e+06   \n",
       "mean   2.433972e+02  1.798619e+05   8.338831e+05    8.551137e+05   \n",
       "std    1.423320e+02  6.038582e+05   2.888243e+06    2.924049e+06   \n",
       "min    1.000000e+00  0.000000e+00   0.000000e+00    0.000000e+00   \n",
       "25%    1.560000e+02  1.338957e+04   0.000000e+00    0.000000e+00   \n",
       "50%    2.390000e+02  7.487194e+04   1.420800e+04    0.000000e+00   \n",
       "75%    3.350000e+02  2.087215e+05   1.073152e+05    1.442584e+05   \n",
       "max    7.430000e+02  9.244552e+07   5.958504e+07    4.958504e+07   \n",
       "\n",
       "       oldbalanceDest  newbalanceDest       isFraud  isFlaggedFraud  \n",
       "count    6.362620e+06    6.362620e+06  6.362620e+06    6.362620e+06  \n",
       "mean     1.100702e+06    1.224996e+06  1.290820e-03    2.514687e-06  \n",
       "std      3.399180e+06    3.674129e+06  3.590480e-02    1.585775e-03  \n",
       "min      0.000000e+00    0.000000e+00  0.000000e+00    0.000000e+00  \n",
       "25%      0.000000e+00    0.000000e+00  0.000000e+00    0.000000e+00  \n",
       "50%      1.327057e+05    2.146614e+05  0.000000e+00    0.000000e+00  \n",
       "75%      9.430367e+05    1.111909e+06  0.000000e+00    0.000000e+00  \n",
       "max      3.560159e+08    3.561793e+08  1.000000e+00    1.000000e+00  "
      ]
     },
     "execution_count": 63,
     "metadata": {},
     "output_type": "execute_result"
    }
   ],
   "source": [
    "df_info.describe()"
   ]
  },
  {
   "cell_type": "code",
   "execution_count": 64,
   "id": "c9ecc9fc-c5e3-40b9-80b2-96811dcbb094",
   "metadata": {},
   "outputs": [
    {
     "data": {
      "text/plain": [
       "step                int64\n",
       "type               object\n",
       "amount            float64\n",
       "nameOrig           object\n",
       "oldbalanceOrg     float64\n",
       "newbalanceOrig    float64\n",
       "nameDest           object\n",
       "oldbalanceDest    float64\n",
       "newbalanceDest    float64\n",
       "isFraud             int64\n",
       "isFlaggedFraud      int64\n",
       "dtype: object"
      ]
     },
     "execution_count": 64,
     "metadata": {},
     "output_type": "execute_result"
    }
   ],
   "source": [
    "df_info.dtypes"
   ]
  },
  {
   "cell_type": "markdown",
   "id": "fd3edde2-11cb-4292-8359-4fb2bfce3adb",
   "metadata": {},
   "source": [
    "# Check if the data contains any null values or missing data"
   ]
  },
  {
   "cell_type": "code",
   "execution_count": 65,
   "id": "de414bf3-9b0d-47aa-a996-802d181d1266",
   "metadata": {},
   "outputs": [
    {
     "data": {
      "text/plain": [
       "step              0\n",
       "type              0\n",
       "amount            0\n",
       "nameOrig          0\n",
       "oldbalanceOrg     0\n",
       "newbalanceOrig    0\n",
       "nameDest          0\n",
       "oldbalanceDest    0\n",
       "newbalanceDest    0\n",
       "isFraud           0\n",
       "isFlaggedFraud    0\n",
       "dtype: int64"
      ]
     },
     "execution_count": 65,
     "metadata": {},
     "output_type": "execute_result"
    }
   ],
   "source": [
    "df_info.isnull().sum()"
   ]
  },
  {
   "cell_type": "markdown",
   "id": "d59818ba-5c0f-480b-953c-7153de2fc466",
   "metadata": {},
   "source": [
    "# Check if there is any duplicate data"
   ]
  },
  {
   "cell_type": "code",
   "execution_count": 66,
   "id": "8689650e-d3aa-4190-abdd-ca6646c2cb05",
   "metadata": {},
   "outputs": [
    {
     "data": {
      "text/plain": [
       "0"
      ]
     },
     "execution_count": 66,
     "metadata": {},
     "output_type": "execute_result"
    }
   ],
   "source": [
    "df_info.duplicated().sum()"
   ]
  },
  {
   "cell_type": "markdown",
   "id": "aa9232ac-5207-4711-8cc6-97e993856c14",
   "metadata": {},
   "source": [
    "# Drop the columns not required for analysis"
   ]
  },
  {
   "cell_type": "code",
   "execution_count": 67,
   "id": "2e85e08a-391b-49d8-8cf4-4409e98191f5",
   "metadata": {},
   "outputs": [],
   "source": [
    "df_info_updated = df_info.drop(columns = ['nameOrig','nameDest'])"
   ]
  },
  {
   "cell_type": "code",
   "execution_count": 68,
   "id": "ab04db93-3409-4470-a1db-1a01353b330c",
   "metadata": {},
   "outputs": [
    {
     "data": {
      "text/plain": [
       "Index(['step', 'type', 'amount', 'oldbalanceOrg', 'newbalanceOrig',\n",
       "       'oldbalanceDest', 'newbalanceDest', 'isFraud', 'isFlaggedFraud'],\n",
       "      dtype='object')"
      ]
     },
     "execution_count": 68,
     "metadata": {},
     "output_type": "execute_result"
    }
   ],
   "source": [
    "df_info_updated.columns"
   ]
  },
  {
   "cell_type": "markdown",
   "id": "43faa3fd-7d60-4467-88f9-7cca12d2c779",
   "metadata": {},
   "source": [
    "# CHeck the unique type and total count for each type."
   ]
  },
  {
   "cell_type": "code",
   "execution_count": 69,
   "id": "0bf94e1e-8717-44bb-b920-e4ba56ed2127",
   "metadata": {},
   "outputs": [],
   "source": [
    "type = df_info_updated['type'].value_counts(normalize = True) * 100\n",
    "values = type.values\n",
    "transaction_type = type.index"
   ]
  },
  {
   "cell_type": "markdown",
   "id": "221d1d5a-f07b-4372-9750-5c0398b7d2d6",
   "metadata": {},
   "source": [
    "# Create a pie chart for percentage value for each transaction type"
   ]
  },
  {
   "cell_type": "code",
   "execution_count": 70,
   "id": "99dbb75c-065d-4b8f-84f6-74428b25ebef",
   "metadata": {},
   "outputs": [
    {
     "data": {
      "text/plain": [
       "[]"
      ]
     },
     "execution_count": 70,
     "metadata": {},
     "output_type": "execute_result"
    },
    {
     "data": {
      "image/png": "[encoded data removed]",
      "text/plain": [
       "<Figure size 640x480 with 1 Axes>"
      ]
     },
     "metadata": {},
     "output_type": "display_data"
    }
   ],
   "source": [
    "colors = sns.color_palette('pastel')[0:5]\n",
    "plt.pie(values,labels = transaction_type,colors = colors, autopct='%.1f%%')\n",
    "plt.title (\"Distribution of Transaction Type\")\n",
    "plt.plot()"
   ]
  },
  {
   "cell_type": "code",
   "execution_count": 71,
   "id": "6b584ee6-885e-4459-a2be-4a25125c0792",
   "metadata": {},
   "outputs": [
    {
     "data": {
      "text/plain": [
       "step                int64\n",
       "type               object\n",
       "amount            float64\n",
       "oldbalanceOrg     float64\n",
       "newbalanceOrig    float64\n",
       "oldbalanceDest    float64\n",
       "newbalanceDest    float64\n",
       "isFraud             int64\n",
       "isFlaggedFraud      int64\n",
       "dtype: object"
      ]
     },
     "execution_count": 71,
     "metadata": {},
     "output_type": "execute_result"
    }
   ],
   "source": [
    "df_info_updated.dtypes"
   ]
  },
  {
   "cell_type": "markdown",
   "id": "33fb1721-e441-4470-81fa-122fbb919912",
   "metadata": {},
   "source": [
    "# Change the Categorical column to numerical one"
   ]
  },
  {
   "cell_type": "code",
   "execution_count": 72,
   "id": "3c8771e9-6431-4797-ba0f-8a9baae970a4",
   "metadata": {},
   "outputs": [],
   "source": [
    "new_dict = {'CASH_OUT': 1,'PAYMENT': 2, 'CASH_IN': 3,'TRANSFER': 4, 'DEBIT': 5}\n",
    "df_info_updated['New_type'] = df_info_updated['type'].map(new_dict) "
   ]
  },
  {
   "cell_type": "code",
   "execution_count": 73,
   "id": "0fe87fa0-4c37-4fa3-9b4f-1d22c624a824",
   "metadata": {},
   "outputs": [
    {
     "data": {
      "text/html": [
       "<div>\n",
       "<style scoped>\n",
       "    .dataframe tbody tr th:only-of-type {\n",
       "        vertical-align: middle;\n",
       "    }\n",
       "\n",
       "    .dataframe tbody tr th {\n",
       "        vertical-align: top;\n",
       "    }\n",
       "\n",
       "    .dataframe thead th {\n",
       "        text-align: right;\n",
       "    }\n",
       "</style>\n",
       "<table border=\"1\" class=\"dataframe\">\n",
       "  <thead>\n",
       "    <tr style=\"text-align: right;\">\n",
       "      <th></th>\n",
       "      <th>step</th>\n",
       "      <th>type</th>\n",
       "      <th>amount</th>\n",
       "      <th>oldbalanceOrg</th>\n",
       "      <th>newbalanceOrig</th>\n",
       "      <th>oldbalanceDest</th>\n",
       "      <th>newbalanceDest</th>\n",
       "      <th>isFraud</th>\n",
       "      <th>isFlaggedFraud</th>\n",
       "      <th>New_type</th>\n",
       "    </tr>\n",
       "  </thead>\n",
       "  <tbody>\n",
       "    <tr>\n",
       "      <th>0</th>\n",
       "      <td>1</td>\n",
       "      <td>PAYMENT</td>\n",
       "      <td>9839.64</td>\n",
       "      <td>170136.00</td>\n",
       "      <td>160296.36</td>\n",
       "      <td>0.0</td>\n",
       "      <td>0.00</td>\n",
       "      <td>0</td>\n",
       "      <td>0</td>\n",
       "      <td>2</td>\n",
       "    </tr>\n",
       "    <tr>\n",
       "      <th>1</th>\n",
       "      <td>1</td>\n",
       "      <td>PAYMENT</td>\n",
       "      <td>1864.28</td>\n",
       "      <td>21249.00</td>\n",
       "      <td>19384.72</td>\n",
       "      <td>0.0</td>\n",
       "      <td>0.00</td>\n",
       "      <td>0</td>\n",
       "      <td>0</td>\n",
       "      <td>2</td>\n",
       "    </tr>\n",
       "    <tr>\n",
       "      <th>2</th>\n",
       "      <td>1</td>\n",
       "      <td>TRANSFER</td>\n",
       "      <td>181.00</td>\n",
       "      <td>181.00</td>\n",
       "      <td>0.00</td>\n",
       "      <td>0.0</td>\n",
       "      <td>0.00</td>\n",
       "      <td>1</td>\n",
       "      <td>0</td>\n",
       "      <td>4</td>\n",
       "    </tr>\n",
       "    <tr>\n",
       "      <th>3</th>\n",
       "      <td>1</td>\n",
       "      <td>CASH_OUT</td>\n",
       "      <td>181.00</td>\n",
       "      <td>181.00</td>\n",
       "      <td>0.00</td>\n",
       "      <td>21182.0</td>\n",
       "      <td>0.00</td>\n",
       "      <td>1</td>\n",
       "      <td>0</td>\n",
       "      <td>1</td>\n",
       "    </tr>\n",
       "    <tr>\n",
       "      <th>4</th>\n",
       "      <td>1</td>\n",
       "      <td>PAYMENT</td>\n",
       "      <td>11668.14</td>\n",
       "      <td>41554.00</td>\n",
       "      <td>29885.86</td>\n",
       "      <td>0.0</td>\n",
       "      <td>0.00</td>\n",
       "      <td>0</td>\n",
       "      <td>0</td>\n",
       "      <td>2</td>\n",
       "    </tr>\n",
       "    <tr>\n",
       "      <th>5</th>\n",
       "      <td>1</td>\n",
       "      <td>PAYMENT</td>\n",
       "      <td>7817.71</td>\n",
       "      <td>53860.00</td>\n",
       "      <td>46042.29</td>\n",
       "      <td>0.0</td>\n",
       "      <td>0.00</td>\n",
       "      <td>0</td>\n",
       "      <td>0</td>\n",
       "      <td>2</td>\n",
       "    </tr>\n",
       "    <tr>\n",
       "      <th>6</th>\n",
       "      <td>1</td>\n",
       "      <td>PAYMENT</td>\n",
       "      <td>7107.77</td>\n",
       "      <td>183195.00</td>\n",
       "      <td>176087.23</td>\n",
       "      <td>0.0</td>\n",
       "      <td>0.00</td>\n",
       "      <td>0</td>\n",
       "      <td>0</td>\n",
       "      <td>2</td>\n",
       "    </tr>\n",
       "    <tr>\n",
       "      <th>7</th>\n",
       "      <td>1</td>\n",
       "      <td>PAYMENT</td>\n",
       "      <td>7861.64</td>\n",
       "      <td>176087.23</td>\n",
       "      <td>168225.59</td>\n",
       "      <td>0.0</td>\n",
       "      <td>0.00</td>\n",
       "      <td>0</td>\n",
       "      <td>0</td>\n",
       "      <td>2</td>\n",
       "    </tr>\n",
       "    <tr>\n",
       "      <th>8</th>\n",
       "      <td>1</td>\n",
       "      <td>PAYMENT</td>\n",
       "      <td>4024.36</td>\n",
       "      <td>2671.00</td>\n",
       "      <td>0.00</td>\n",
       "      <td>0.0</td>\n",
       "      <td>0.00</td>\n",
       "      <td>0</td>\n",
       "      <td>0</td>\n",
       "      <td>2</td>\n",
       "    </tr>\n",
       "    <tr>\n",
       "      <th>9</th>\n",
       "      <td>1</td>\n",
       "      <td>DEBIT</td>\n",
       "      <td>5337.77</td>\n",
       "      <td>41720.00</td>\n",
       "      <td>36382.23</td>\n",
       "      <td>41898.0</td>\n",
       "      <td>40348.79</td>\n",
       "      <td>0</td>\n",
       "      <td>0</td>\n",
       "      <td>5</td>\n",
       "    </tr>\n",
       "  </tbody>\n",
       "</table>\n",
       "</div>"
      ],
      "text/plain": [
       "   step      type    amount  oldbalanceOrg  newbalanceOrig  oldbalanceDest  \\\n",
       "0     1   PAYMENT   9839.64      170136.00       160296.36             0.0   \n",
       "1     1   PAYMENT   1864.28       21249.00        19384.72             0.0   \n",
       "2     1  TRANSFER    181.00         181.00            0.00             0.0   \n",
       "3     1  CASH_OUT    181.00         181.00            0.00         21182.0   \n",
       "4     1   PAYMENT  11668.14       41554.00        29885.86             0.0   \n",
       "5     1   PAYMENT   7817.71       53860.00        46042.29             0.0   \n",
       "6     1   PAYMENT   7107.77      183195.00       176087.23             0.0   \n",
       "7     1   PAYMENT   7861.64      176087.23       168225.59             0.0   \n",
       "8     1   PAYMENT   4024.36        2671.00            0.00             0.0   \n",
       "9     1     DEBIT   5337.77       41720.00        36382.23         41898.0   \n",
       "\n",
       "   newbalanceDest  isFraud  isFlaggedFraud  New_type  \n",
       "0            0.00        0               0         2  \n",
       "1            0.00        0               0         2  \n",
       "2            0.00        1               0         4  \n",
       "3            0.00        1               0         1  \n",
       "4            0.00        0               0         2  \n",
       "5            0.00        0               0         2  \n",
       "6            0.00        0               0         2  \n",
       "7            0.00        0               0         2  \n",
       "8            0.00        0               0         2  \n",
       "9        40348.79        0               0         5  "
      ]
     },
     "execution_count": 73,
     "metadata": {},
     "output_type": "execute_result"
    }
   ],
   "source": [
    "df_info_updated.head(10)"
   ]
  },
  {
   "cell_type": "markdown",
   "id": "ac362b0d-62b4-4e84-b099-c1f9748afa22",
   "metadata": {},
   "source": [
    "# Checking whether any correlation exists between these variables"
   ]
  },
  {
   "cell_type": "code",
   "execution_count": 74,
   "id": "1cc9da4d-9599-43fc-a982-2d7bf570e392",
   "metadata": {},
   "outputs": [],
   "source": [
    "new_df = df_info_updated.drop(columns = ['type'])"
   ]
  },
  {
   "cell_type": "code",
   "execution_count": 75,
   "id": "fe139c36-d3c0-4cd6-a479-ae084ec42076",
   "metadata": {},
   "outputs": [
    {
     "data": {
      "text/html": [
       "<div>\n",
       "<style scoped>\n",
       "    .dataframe tbody tr th:only-of-type {\n",
       "        vertical-align: middle;\n",
       "    }\n",
       "\n",
       "    .dataframe tbody tr th {\n",
       "        vertical-align: top;\n",
       "    }\n",
       "\n",
       "    .dataframe thead th {\n",
       "        text-align: right;\n",
       "    }\n",
       "</style>\n",
       "<table border=\"1\" class=\"dataframe\">\n",
       "  <thead>\n",
       "    <tr style=\"text-align: right;\">\n",
       "      <th></th>\n",
       "      <th>step</th>\n",
       "      <th>amount</th>\n",
       "      <th>oldbalanceOrg</th>\n",
       "      <th>newbalanceOrig</th>\n",
       "      <th>oldbalanceDest</th>\n",
       "      <th>newbalanceDest</th>\n",
       "      <th>isFraud</th>\n",
       "      <th>isFlaggedFraud</th>\n",
       "      <th>New_type</th>\n",
       "    </tr>\n",
       "  </thead>\n",
       "  <tbody>\n",
       "    <tr>\n",
       "      <th>0</th>\n",
       "      <td>1</td>\n",
       "      <td>9839.64</td>\n",
       "      <td>170136.00</td>\n",
       "      <td>160296.36</td>\n",
       "      <td>0.0</td>\n",
       "      <td>0.00</td>\n",
       "      <td>0</td>\n",
       "      <td>0</td>\n",
       "      <td>2</td>\n",
       "    </tr>\n",
       "    <tr>\n",
       "      <th>1</th>\n",
       "      <td>1</td>\n",
       "      <td>1864.28</td>\n",
       "      <td>21249.00</td>\n",
       "      <td>19384.72</td>\n",
       "      <td>0.0</td>\n",
       "      <td>0.00</td>\n",
       "      <td>0</td>\n",
       "      <td>0</td>\n",
       "      <td>2</td>\n",
       "    </tr>\n",
       "    <tr>\n",
       "      <th>2</th>\n",
       "      <td>1</td>\n",
       "      <td>181.00</td>\n",
       "      <td>181.00</td>\n",
       "      <td>0.00</td>\n",
       "      <td>0.0</td>\n",
       "      <td>0.00</td>\n",
       "      <td>1</td>\n",
       "      <td>0</td>\n",
       "      <td>4</td>\n",
       "    </tr>\n",
       "    <tr>\n",
       "      <th>3</th>\n",
       "      <td>1</td>\n",
       "      <td>181.00</td>\n",
       "      <td>181.00</td>\n",
       "      <td>0.00</td>\n",
       "      <td>21182.0</td>\n",
       "      <td>0.00</td>\n",
       "      <td>1</td>\n",
       "      <td>0</td>\n",
       "      <td>1</td>\n",
       "    </tr>\n",
       "    <tr>\n",
       "      <th>4</th>\n",
       "      <td>1</td>\n",
       "      <td>11668.14</td>\n",
       "      <td>41554.00</td>\n",
       "      <td>29885.86</td>\n",
       "      <td>0.0</td>\n",
       "      <td>0.00</td>\n",
       "      <td>0</td>\n",
       "      <td>0</td>\n",
       "      <td>2</td>\n",
       "    </tr>\n",
       "    <tr>\n",
       "      <th>5</th>\n",
       "      <td>1</td>\n",
       "      <td>7817.71</td>\n",
       "      <td>53860.00</td>\n",
       "      <td>46042.29</td>\n",
       "      <td>0.0</td>\n",
       "      <td>0.00</td>\n",
       "      <td>0</td>\n",
       "      <td>0</td>\n",
       "      <td>2</td>\n",
       "    </tr>\n",
       "    <tr>\n",
       "      <th>6</th>\n",
       "      <td>1</td>\n",
       "      <td>7107.77</td>\n",
       "      <td>183195.00</td>\n",
       "      <td>176087.23</td>\n",
       "      <td>0.0</td>\n",
       "      <td>0.00</td>\n",
       "      <td>0</td>\n",
       "      <td>0</td>\n",
       "      <td>2</td>\n",
       "    </tr>\n",
       "    <tr>\n",
       "      <th>7</th>\n",
       "      <td>1</td>\n",
       "      <td>7861.64</td>\n",
       "      <td>176087.23</td>\n",
       "      <td>168225.59</td>\n",
       "      <td>0.0</td>\n",
       "      <td>0.00</td>\n",
       "      <td>0</td>\n",
       "      <td>0</td>\n",
       "      <td>2</td>\n",
       "    </tr>\n",
       "    <tr>\n",
       "      <th>8</th>\n",
       "      <td>1</td>\n",
       "      <td>4024.36</td>\n",
       "      <td>2671.00</td>\n",
       "      <td>0.00</td>\n",
       "      <td>0.0</td>\n",
       "      <td>0.00</td>\n",
       "      <td>0</td>\n",
       "      <td>0</td>\n",
       "      <td>2</td>\n",
       "    </tr>\n",
       "    <tr>\n",
       "      <th>9</th>\n",
       "      <td>1</td>\n",
       "      <td>5337.77</td>\n",
       "      <td>41720.00</td>\n",
       "      <td>36382.23</td>\n",
       "      <td>41898.0</td>\n",
       "      <td>40348.79</td>\n",
       "      <td>0</td>\n",
       "      <td>0</td>\n",
       "      <td>5</td>\n",
       "    </tr>\n",
       "  </tbody>\n",
       "</table>\n",
       "</div>"
      ],
      "text/plain": [
       "   step    amount  oldbalanceOrg  newbalanceOrig  oldbalanceDest  \\\n",
       "0     1   9839.64      170136.00       160296.36             0.0   \n",
       "1     1   1864.28       21249.00        19384.72             0.0   \n",
       "2     1    181.00         181.00            0.00             0.0   \n",
       "3     1    181.00         181.00            0.00         21182.0   \n",
       "4     1  11668.14       41554.00        29885.86             0.0   \n",
       "5     1   7817.71       53860.00        46042.29             0.0   \n",
       "6     1   7107.77      183195.00       176087.23             0.0   \n",
       "7     1   7861.64      176087.23       168225.59             0.0   \n",
       "8     1   4024.36        2671.00            0.00             0.0   \n",
       "9     1   5337.77       41720.00        36382.23         41898.0   \n",
       "\n",
       "   newbalanceDest  isFraud  isFlaggedFraud  New_type  \n",
       "0            0.00        0               0         2  \n",
       "1            0.00        0               0         2  \n",
       "2            0.00        1               0         4  \n",
       "3            0.00        1               0         1  \n",
       "4            0.00        0               0         2  \n",
       "5            0.00        0               0         2  \n",
       "6            0.00        0               0         2  \n",
       "7            0.00        0               0         2  \n",
       "8            0.00        0               0         2  \n",
       "9        40348.79        0               0         5  "
      ]
     },
     "execution_count": 75,
     "metadata": {},
     "output_type": "execute_result"
    }
   ],
   "source": [
    "new_df.head(10)"
   ]
  },
  {
   "cell_type": "code",
   "execution_count": 76,
   "id": "a429f4f0-082b-4469-8a00-5c4f06a8d38c",
   "metadata": {},
   "outputs": [],
   "source": [
    "correlation  = new_df.corr()"
   ]
  },
  {
   "cell_type": "code",
   "execution_count": 77,
   "id": "3d5956ae-4dae-493b-9c79-9ba3eae95004",
   "metadata": {},
   "outputs": [
    {
     "data": {
      "text/plain": [
       "isFraud           1.000000\n",
       "amount            0.076688\n",
       "isFlaggedFraud    0.044109\n",
       "step              0.031578\n",
       "New_type          0.016171\n",
       "oldbalanceOrg     0.010154\n",
       "newbalanceDest    0.000535\n",
       "oldbalanceDest   -0.005885\n",
       "newbalanceOrig   -0.008148\n",
       "Name: isFraud, dtype: float64"
      ]
     },
     "execution_count": 77,
     "metadata": {},
     "output_type": "execute_result"
    }
   ],
   "source": [
    "correlation['isFraud'].sort_values(ascending = False)"
   ]
  },
  {
   "cell_type": "markdown",
   "id": "5cb71b03-4c2c-4883-9101-4bf1d42011ce",
   "metadata": {},
   "source": [
    "# Split the data between train and test split"
   ]
  },
  {
   "cell_type": "code",
   "execution_count": 78,
   "id": "e42999f2-bf74-4d94-a72a-99fef4dcb5b2",
   "metadata": {},
   "outputs": [],
   "source": [
    "X = new_df.drop(columns =['isFraud','isFlaggedFraud','step','newbalanceDest','oldbalanceDest'])\n",
    "y = np.array(new_df[['isFraud']])"
   ]
  },
  {
   "cell_type": "code",
   "execution_count": 99,
   "id": "fe0c161e-bae3-403b-ae43-783e58d7ce0a",
   "metadata": {},
   "outputs": [
    {
     "name": "stdout",
     "output_type": "stream",
     "text": [
      "The X_train shape is: (4771965, 4)\n",
      "The X_test shape is: (1590655, 4)\n",
      "The y_train shape is: (4771965, 1)\n",
      "The y_test shape is: (1590655, 1)\n"
     ]
    }
   ],
   "source": [
    "X_train,X_test, y_train, y_test = model_selection.train_test_split(X,y, test_size = 0.25,random_state = 42)\n",
    "\n",
    "print('The X_train shape is: {x_train}'.format(x_train = X_train.shape))\n",
    "print('The X_test shape is: {x_test}'.format(x_test   = X_test.shape))\n",
    "print('The y_train shape is: {y_train}'.format(y_train = y_train.shape))\n",
    "print('The y_test shape is: {y_test}'.format(y_test   = y_test.shape))"
   ]
  },
  {
   "cell_type": "markdown",
   "id": "b27407fc-8f13-46c9-85ca-2c8beefa1f65",
   "metadata": {},
   "source": [
    "# Use smote technique to balance the data"
   ]
  },
  {
   "cell_type": "code",
   "execution_count": 94,
   "id": "404853fb-062d-49d7-9e6e-8114fa14dc9d",
   "metadata": {},
   "outputs": [
    {
     "name": "stdout",
     "output_type": "stream",
     "text": [
      "Before oversampling, count of label 1:[6168]\n",
      "Before oversampling, count of label 0:[4765797]\n"
     ]
    }
   ],
   "source": [
    "print ('Before oversampling, count of label 1:{}'.format(sum(y_train == 1)))\n",
    "print ('Before oversampling, count of label 0:{}'.format(sum(y_train == 0)))"
   ]
  },
  {
   "cell_type": "code",
   "execution_count": 96,
   "id": "995cd5a4-5335-4d85-a7bf-92efbdf57cd8",
   "metadata": {},
   "outputs": [],
   "source": [
    "sm = SMOTE(random_state = 42)\n",
    "X_train_res, y_train_res = sm.fit_resample(X_train,y_train.ravel())"
   ]
  },
  {
   "cell_type": "code",
   "execution_count": 97,
   "id": "975b603e-e3b6-4d9a-a125-38538c65d3a3",
   "metadata": {},
   "outputs": [
    {
     "name": "stdout",
     "output_type": "stream",
     "text": [
      "After oversampling, the shape of X_train_res is:(9531594, 4)\n",
      "After oversampling, the shape of y_train_res is:(9531594,)\n"
     ]
    }
   ],
   "source": [
    "print ('After oversampling, the shape of X_train_res is:{}'.format(X_train_res.shape))\n",
    "print ('After oversampling, the shape of y_train_res is:{}'.format(y_train_res.shape))"
   ]
  },
  {
   "cell_type": "code",
   "execution_count": 98,
   "id": "58e4fd1e-9fda-4a0f-9980-33801bff100a",
   "metadata": {},
   "outputs": [
    {
     "name": "stdout",
     "output_type": "stream",
     "text": [
      "After oversampling, count of label 1:4765797\n",
      "Before oversampling, count of label 0:4765797\n"
     ]
    }
   ],
   "source": [
    "print ('After oversampling, count of label 1:{}'.format(sum(y_train_res == 1)))\n",
    "print ('Before oversampling, count of label 0:{}'.format(sum(y_train_res == 0)))"
   ]
  },
  {
   "cell_type": "markdown",
   "id": "facb14d0-fc8c-40cd-aa81-af4f5af734fb",
   "metadata": {},
   "source": [
    "# Build and Fit the data into the model"
   ]
  },
  {
   "cell_type": "code",
   "execution_count": 100,
   "id": "1707330c-9b37-4f2d-8120-8a2c3a51d293",
   "metadata": {},
   "outputs": [],
   "source": [
    "rfc = RandomForestClassifier(random_state = 40,max_depth = 6, min_samples_split = 5000, max_leaf_nodes = 10, n_jobs=5)"
   ]
  },
  {
   "cell_type": "code",
   "execution_count": 101,
   "id": "52331c10-bfb6-46cc-92fe-c2ccdcc1e008",
   "metadata": {},
   "outputs": [
    {
     "data": {
      "text/html": [
       "<style>#sk-container-id-3 {color: black;background-color: white;}#sk-container-id-3 pre{padding: 0;}#sk-container-id-3 div.sk-toggleable {background-color: white;}#sk-container-id-3 label.sk-toggleable__label {cursor: pointer;display: block;width: 100%;margin-bottom: 0;padding: 0.3em;box-sizing: border-box;text-align: center;}#sk-container-id-3 label.sk-toggleable__label-arrow:before {content: \"▸\";float: left;margin-right: 0.25em;color: #696969;}#sk-container-id-3 label.sk-toggleable__label-arrow:hover:before {color: black;}#sk-container-id-3 div.sk-estimator:hover label.sk-toggleable__label-arrow:before {color: black;}#sk-container-id-3 div.sk-toggleable__content {max-height: 0;max-width: 0;overflow: hidden;text-align: left;background-color: #f0f8ff;}#sk-container-id-3 div.sk-toggleable__content pre {margin: 0.2em;color: black;border-radius: 0.25em;background-color: #f0f8ff;}#sk-container-id-3 input.sk-toggleable__control:checked~div.sk-toggleable__content {max-height: 200px;max-width: 100%;overflow: auto;}#sk-container-id-3 input.sk-toggleable__control:checked~label.sk-toggleable__label-arrow:before {content: \"▾\";}#sk-container-id-3 div.sk-estimator input.sk-toggleable__control:checked~label.sk-toggleable__label {background-color: #d4ebff;}#sk-container-id-3 div.sk-label input.sk-toggleable__control:checked~label.sk-toggleable__label {background-color: #d4ebff;}#sk-container-id-3 input.sk-hidden--visually {border: 0;clip: rect(1px 1px 1px 1px);clip: rect(1px, 1px, 1px, 1px);height: 1px;margin: -1px;overflow: hidden;padding: 0;position: absolute;width: 1px;}#sk-container-id-3 div.sk-estimator {font-family: monospace;background-color: #f0f8ff;border: 1px dotted black;border-radius: 0.25em;box-sizing: border-box;margin-bottom: 0.5em;}#sk-container-id-3 div.sk-estimator:hover {background-color: #d4ebff;}#sk-container-id-3 div.sk-parallel-item::after {content: \"\";width: 100%;border-bottom: 1px solid gray;flex-grow: 1;}#sk-container-id-3 div.sk-label:hover label.sk-toggleable__label {background-color: #d4ebff;}#sk-container-id-3 div.sk-serial::before {content: \"\";position: absolute;border-left: 1px solid gray;box-sizing: border-box;top: 0;bottom: 0;left: 50%;z-index: 0;}#sk-container-id-3 div.sk-serial {display: flex;flex-direction: column;align-items: center;background-color: white;padding-right: 0.2em;padding-left: 0.2em;position: relative;}#sk-container-id-3 div.sk-item {position: relative;z-index: 1;}#sk-container-id-3 div.sk-parallel {display: flex;align-items: stretch;justify-content: center;background-color: white;position: relative;}#sk-container-id-3 div.sk-item::before, #sk-container-id-3 div.sk-parallel-item::before {content: \"\";position: absolute;border-left: 1px solid gray;box-sizing: border-box;top: 0;bottom: 0;left: 50%;z-index: -1;}#sk-container-id-3 div.sk-parallel-item {display: flex;flex-direction: column;z-index: 1;position: relative;background-color: white;}#sk-container-id-3 div.sk-parallel-item:first-child::after {align-self: flex-end;width: 50%;}#sk-container-id-3 div.sk-parallel-item:last-child::after {align-self: flex-start;width: 50%;}#sk-container-id-3 div.sk-parallel-item:only-child::after {width: 0;}#sk-container-id-3 div.sk-dashed-wrapped {border: 1px dashed gray;margin: 0 0.4em 0.5em 0.4em;box-sizing: border-box;padding-bottom: 0.4em;background-color: white;}#sk-container-id-3 div.sk-label label {font-family: monospace;font-weight: bold;display: inline-block;line-height: 1.2em;}#sk-container-id-3 div.sk-label-container {text-align: center;}#sk-container-id-3 div.sk-container {/* jupyter's `normalize.less` sets `[hidden] { display: none; }` but bootstrap.min.css set `[hidden] { display: none !important; }` so we also need the `!important` here to be able to override the default hidden behavior on the sphinx rendered scikit-learn.org. See: https://github.com/scikit-learn/scikit-learn/issues/21755 */display: inline-block !important;position: relative;}#sk-container-id-3 div.sk-text-repr-fallback {display: none;}</style><div id=\"sk-container-id-3\" class=\"sk-top-container\"><div class=\"sk-text-repr-fallback\"><pre>RandomForestClassifier(max_depth=6, max_leaf_nodes=10, min_samples_split=5000,\n",
       "                       n_jobs=5, random_state=40)</pre><b>In a Jupyter environment, please rerun this cell to show the HTML representation or trust the notebook. <br />On GitHub, the HTML representation is unable to render, please try loading this page with nbviewer.org.</b></div><div class=\"sk-container\" hidden><div class=\"sk-item\"><div class=\"sk-estimator sk-toggleable\"><input class=\"sk-toggleable__control sk-hidden--visually\" id=\"sk-estimator-id-3\" type=\"checkbox\" checked><label for=\"sk-estimator-id-3\" class=\"sk-toggleable__label sk-toggleable__label-arrow\">RandomForestClassifier</label><div class=\"sk-toggleable__content\"><pre>RandomForestClassifier(max_depth=6, max_leaf_nodes=10, min_samples_split=5000,\n",
       "                       n_jobs=5, random_state=40)</pre></div></div></div></div></div>"
      ],
      "text/plain": [
       "RandomForestClassifier(max_depth=6, max_leaf_nodes=10, min_samples_split=5000,\n",
       "                       n_jobs=5, random_state=40)"
      ]
     },
     "execution_count": 101,
     "metadata": {},
     "output_type": "execute_result"
    }
   ],
   "source": [
    "rfc.fit(X_train_res,y_train_res.ravel())"
   ]
  },
  {
   "cell_type": "markdown",
   "id": "29af5036-a3d8-49c5-b443-d19233f61786",
   "metadata": {},
   "source": [
    "# Predict the Model"
   ]
  },
  {
   "cell_type": "code",
   "execution_count": 102,
   "id": "df278144-a76c-4a4a-b88e-81af647dd427",
   "metadata": {},
   "outputs": [],
   "source": [
    "y_predict = rfc.predict(X_test)"
   ]
  },
  {
   "cell_type": "markdown",
   "id": "383bc81b-7d09-42a9-9a75-edc932dcbccb",
   "metadata": {},
   "source": [
    "# Evaluate the Model by checking the Precision, Recall, Accuracy and F1 score."
   ]
  },
  {
   "cell_type": "code",
   "execution_count": 104,
   "id": "95eb52f9-904f-4511-a636-31bab5be50ea",
   "metadata": {},
   "outputs": [
    {
     "name": "stdout",
     "output_type": "stream",
     "text": [
      "Precision score is: 0.026\n",
      "Recall score is: 0.986\n",
      "Accuracy score is: 0.952\n",
      "F1 score is: 0.050\n"
     ]
    }
   ],
   "source": [
    "print('Precision score is: {ps:.3f}'.format(ps = metrics.precision_score(y_test,y_predict)))\n",
    "print('Recall score is: {rc:.3f}'.format(rc = metrics.recall_score(y_test,y_predict)))\n",
    "print('Accuracy score is: {ac:.3f}'.format(ac = metrics.accuracy_score(y_test,y_predict)))\n",
    "print('F1 score is: {f1:.3f}'.format(f1 = metrics.f1_score(y_test,y_predict)))"
   ]
  },
  {
   "cell_type": "markdown",
   "id": "1182760b-5ef1-4956-bfed-c783a42ebbd9",
   "metadata": {},
   "source": [
    "# Build the Confusion Matrix"
   ]
  },
  {
   "cell_type": "code",
   "execution_count": 105,
   "id": "170f72f4-f3b7-44b3-ac8f-8d664679ba92",
   "metadata": {},
   "outputs": [
    {
     "data": {
      "text/plain": [
       "<sklearn.metrics._plot.confusion_matrix.ConfusionMatrixDisplay at 0x239b4ff73d0>"
      ]
     },
     "execution_count": 105,
     "metadata": {},
     "output_type": "execute_result"
    },
    {
     "data": {
      "image/png": "[encoded data removed]",
      "text/plain": [
       "<Figure size 640x480 with 2 Axes>"
      ]
     },
     "metadata": {},
     "output_type": "display_data"
    }
   ],
   "source": [
    "cm = metrics.confusion_matrix(y_test,y_predict)\n",
    "dsp = metrics.ConfusionMatrixDisplay(confusion_matrix= cm,display_labels = rfc.classes_)\n",
    "dsp.plot()"
   ]
  },
  {
   "cell_type": "code",
   "execution_count": 106,
   "id": "8af14863-8190-4eaa-ad87-178fd87c409c",
   "metadata": {},
   "outputs": [
    {
     "data": {
      "text/plain": [
       "<Axes: >"
      ]
     },
     "execution_count": 106,
     "metadata": {},
     "output_type": "execute_result"
    },
    {
     "data": {
      "image/png": "[encoded data removed]",
      "text/plain": [
       "<Figure size 640x480 with 1 Axes>"
      ]
     },
     "metadata": {},
     "output_type": "display_data"
    }
   ],
   "source": [
    "# Build Feature Importance\n",
    "importances = rfc.feature_importances_\n",
    "forest_importances = pd.Series(importances, index=X.columns).sort_values(ascending=False)\n",
    "\n",
    "fig, ax = plt.subplots()\n",
    "forest_importances.plot.bar(ax=ax)"
   ]
  },
  {
   "cell_type": "markdown",
   "id": "cc2183c8-1315-405a-9a76-6fcc79297d00",
   "metadata": {},
   "source": [
    "# Create Classificaltion Report"
   ]
  },
  {
   "cell_type": "code",
   "execution_count": 107,
   "id": "03a006b8-af12-4698-9904-a66411b0ad23",
   "metadata": {},
   "outputs": [
    {
     "name": "stdout",
     "output_type": "stream",
     "text": [
      "              precision    recall  f1-score   support\n",
      "\n",
      "           0     1.0000    0.9522    0.9755   1588610\n",
      "           1     0.0259    0.9863    0.0504      2045\n",
      "\n",
      "    accuracy                         0.9522   1590655\n",
      "   macro avg     0.5129    0.9692    0.5129   1590655\n",
      "weighted avg     0.9987    0.9522    0.9743   1590655\n",
      "\n"
     ]
    }
   ],
   "source": [
    "print(metrics.classification_report(y_test,y_predict,digits=4))"
   ]
  },
  {
   "cell_type": "markdown",
   "id": "6ed378b0-42d4-4d1e-a90d-ba1ff467740a",
   "metadata": {},
   "source": [
    "## Inferences: The Model is good at Identifying the Non-fraudulent payments which is good. But since as we see the data is imbalanced due to less amount of fraud data present in the actual subset so we need to have more data of fraudulent payments in order to make the model more robust. "
   ]
  },
  {
   "cell_type": "code",
   "execution_count": null,
   "id": "5f0e3fd9-83a2-496a-96d6-a494f8a74dcc",
   "metadata": {},
   "outputs": [],
   "source": []
  }
 ],
 "metadata": {
  "kernelspec": {
   "display_name": "Python 3 (ipykernel)",
   "language": "python",
   "name": "python3"
  },
  "language_info": {
   "codemirror_mode": {
    "name": "ipython",
    "version": 3
   },
   "file_extension": ".py",
   "mimetype": "text/x-python",
   "name": "python",
   "nbconvert_exporter": "python",
   "pygments_lexer": "ipython3",
   "version": "3.11.7"
  }
 },
 "nbformat": 4,
 "nbformat_minor": 5
}
