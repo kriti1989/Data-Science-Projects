{
 "cells": [
  {
   "cell_type": "markdown",
   "id": "c440d8c4-612a-466a-b7fc-a46d7f9b8bfd",
   "metadata": {},
   "source": [
    "# Project: Stock Price Prediction\n",
    "# Description: Predicting the stock market is one of the most important applications of Machine Learning in finance.Predicting the stock market has been the bane and goal of investors since its inception. Every day billions of dollars are traded on the stock exchange, and behind every dollar is an investor hoping to make a profit in one way or another.\n",
    "# Entire companies rise and fall daily depending on market behaviour. If an investor is able to accurately predict market movements, he offers a tantalizing promise of wealth and influence. Today, so many people are making money staying at home trading in the stock market. It is a plus point for you if you use your experience in the stock market and your machine learning skills for the task of stock price prediction.\n",
    "# Dataset: https://query1.finance.yahoo.com/v7/finance/download/INR=Xperiod1=1580035828&period2=1611658228&interval=1d&events=history&includeAdjustedClose=true\n",
    "# Fields in Dataset (Stock Name: Bitcoin in GBP)\n",
    "## Date : This is the index in our time series that specifies the date associated with the price.\n",
    "## Open Price: The first price at which BTC was purchased on that day.\n",
    "## High Price:  The highest price at which BTC was purchased that day.\n",
    "## Low Price: The lowest price at which BTC was purchased that day.\n",
    "## Close Price: The last price at which BTC was purchased on that day.\n",
    "## Volumne: The number of total trades that day.\n",
    "\n",
    "# We will use Linear Regression Model to predict the price and see how the Model is evaluation by measuring MAE, R squared, MSE and RMSE.\n"
   ]
  },
  {
   "cell_type": "markdown",
   "id": "f3d289ed-8eaf-4377-8059-838396252b91",
   "metadata": {},
   "source": [
    "# Import the Libraries"
   ]
  },
  {
   "cell_type": "code",
   "execution_count": 136,
   "id": "ff02b296-42e0-408f-b003-61de347fabd7",
   "metadata": {},
   "outputs": [],
   "source": [
    "import pandas as pd\n",
    "import numpy as np\n",
    "from datetime import datetime as dt\n",
    "from matplotlib import pyplot as plt\n",
    "import seaborn as sns\n",
    "from sklearn import preprocessing\n",
    "from sklearn import metrics\n",
    "from sklearn import model_selection \n",
    "from sklearn.linear_model import LinearRegression"
   ]
  },
  {
   "cell_type": "markdown",
   "id": "9fe00199-5368-4f3e-beb7-67d70c865e31",
   "metadata": {},
   "source": [
    "# Load the dataset into dataframe"
   ]
  },
  {
   "cell_type": "code",
   "execution_count": 137,
   "id": "d53aed81-83fd-4aef-a7a7-271df2987fad",
   "metadata": {},
   "outputs": [],
   "source": [
    "df_info = pd.read_csv(r'C:\\Users\\kgupta\\Data Science - Jupyter Notebook\\BTC-GBP.csv')"
   ]
  },
  {
   "cell_type": "code",
   "execution_count": 138,
   "id": "01231710-01e6-4f22-8fdb-bd971447097c",
   "metadata": {},
   "outputs": [
    {
     "data": {
      "text/html": [
       "<div>\n",
       "<style scoped>\n",
       "    .dataframe tbody tr th:only-of-type {\n",
       "        vertical-align: middle;\n",
       "    }\n",
       "\n",
       "    .dataframe tbody tr th {\n",
       "        vertical-align: top;\n",
       "    }\n",
       "\n",
       "    .dataframe thead th {\n",
       "        text-align: right;\n",
       "    }\n",
       "</style>\n",
       "<table border=\"1\" class=\"dataframe\">\n",
       "  <thead>\n",
       "    <tr style=\"text-align: right;\">\n",
       "      <th></th>\n",
       "      <th>Date</th>\n",
       "      <th>Open</th>\n",
       "      <th>High</th>\n",
       "      <th>Low</th>\n",
       "      <th>Close</th>\n",
       "      <th>Adj Close</th>\n",
       "      <th>Volume</th>\n",
       "    </tr>\n",
       "  </thead>\n",
       "  <tbody>\n",
       "    <tr>\n",
       "      <th>0</th>\n",
       "      <td>3/10/2023</td>\n",
       "      <td>18330.46484</td>\n",
       "      <td>18399.70508</td>\n",
       "      <td>16955.90234</td>\n",
       "      <td>17079.11719</td>\n",
       "      <td>17079.11719</td>\n",
       "      <td>25467815509</td>\n",
       "    </tr>\n",
       "    <tr>\n",
       "      <th>1</th>\n",
       "      <td>3/11/2023</td>\n",
       "      <td>17082.45703</td>\n",
       "      <td>17084.26758</td>\n",
       "      <td>16391.43750</td>\n",
       "      <td>16776.56836</td>\n",
       "      <td>16776.56836</td>\n",
       "      <td>32891431901</td>\n",
       "    </tr>\n",
       "    <tr>\n",
       "      <th>2</th>\n",
       "      <td>3/12/2023</td>\n",
       "      <td>16777.09570</td>\n",
       "      <td>17278.15234</td>\n",
       "      <td>16676.63477</td>\n",
       "      <td>17145.09961</td>\n",
       "      <td>17145.09961</td>\n",
       "      <td>25079185688</td>\n",
       "    </tr>\n",
       "    <tr>\n",
       "      <th>3</th>\n",
       "      <td>3/13/2023</td>\n",
       "      <td>17141.45898</td>\n",
       "      <td>18371.42383</td>\n",
       "      <td>16992.52930</td>\n",
       "      <td>18353.96680</td>\n",
       "      <td>18353.96680</td>\n",
       "      <td>24245969315</td>\n",
       "    </tr>\n",
       "    <tr>\n",
       "      <th>4</th>\n",
       "      <td>3/14/2023</td>\n",
       "      <td>18347.72070</td>\n",
       "      <td>20165.61523</td>\n",
       "      <td>18169.72656</td>\n",
       "      <td>19887.22656</td>\n",
       "      <td>19887.22656</td>\n",
       "      <td>40654919503</td>\n",
       "    </tr>\n",
       "    <tr>\n",
       "      <th>5</th>\n",
       "      <td>3/15/2023</td>\n",
       "      <td>19890.70508</td>\n",
       "      <td>21756.46484</td>\n",
       "      <td>19811.30078</td>\n",
       "      <td>20365.50000</td>\n",
       "      <td>20365.50000</td>\n",
       "      <td>44952948358</td>\n",
       "    </tr>\n",
       "    <tr>\n",
       "      <th>6</th>\n",
       "      <td>3/16/2023</td>\n",
       "      <td>20385.95117</td>\n",
       "      <td>20887.69531</td>\n",
       "      <td>19940.31445</td>\n",
       "      <td>20199.99414</td>\n",
       "      <td>20199.99414</td>\n",
       "      <td>36176824956</td>\n",
       "    </tr>\n",
       "    <tr>\n",
       "      <th>7</th>\n",
       "      <td>3/17/2023</td>\n",
       "      <td>20197.91797</td>\n",
       "      <td>20780.91211</td>\n",
       "      <td>20066.91992</td>\n",
       "      <td>20687.96680</td>\n",
       "      <td>20687.96680</td>\n",
       "      <td>27965747139</td>\n",
       "    </tr>\n",
       "    <tr>\n",
       "      <th>8</th>\n",
       "      <td>3/18/2023</td>\n",
       "      <td>20689.89453</td>\n",
       "      <td>22810.54297</td>\n",
       "      <td>20617.28711</td>\n",
       "      <td>22512.30469</td>\n",
       "      <td>22512.30469</td>\n",
       "      <td>41644471530</td>\n",
       "    </tr>\n",
       "    <tr>\n",
       "      <th>9</th>\n",
       "      <td>3/19/2023</td>\n",
       "      <td>22532.16016</td>\n",
       "      <td>22759.76367</td>\n",
       "      <td>21873.35156</td>\n",
       "      <td>22144.02930</td>\n",
       "      <td>22144.02930</td>\n",
       "      <td>29335293435</td>\n",
       "    </tr>\n",
       "  </tbody>\n",
       "</table>\n",
       "</div>"
      ],
      "text/plain": [
       "        Date         Open         High          Low        Close    Adj Close  \\\n",
       "0  3/10/2023  18330.46484  18399.70508  16955.90234  17079.11719  17079.11719   \n",
       "1  3/11/2023  17082.45703  17084.26758  16391.43750  16776.56836  16776.56836   \n",
       "2  3/12/2023  16777.09570  17278.15234  16676.63477  17145.09961  17145.09961   \n",
       "3  3/13/2023  17141.45898  18371.42383  16992.52930  18353.96680  18353.96680   \n",
       "4  3/14/2023  18347.72070  20165.61523  18169.72656  19887.22656  19887.22656   \n",
       "5  3/15/2023  19890.70508  21756.46484  19811.30078  20365.50000  20365.50000   \n",
       "6  3/16/2023  20385.95117  20887.69531  19940.31445  20199.99414  20199.99414   \n",
       "7  3/17/2023  20197.91797  20780.91211  20066.91992  20687.96680  20687.96680   \n",
       "8  3/18/2023  20689.89453  22810.54297  20617.28711  22512.30469  22512.30469   \n",
       "9  3/19/2023  22532.16016  22759.76367  21873.35156  22144.02930  22144.02930   \n",
       "\n",
       "        Volume  \n",
       "0  25467815509  \n",
       "1  32891431901  \n",
       "2  25079185688  \n",
       "3  24245969315  \n",
       "4  40654919503  \n",
       "5  44952948358  \n",
       "6  36176824956  \n",
       "7  27965747139  \n",
       "8  41644471530  \n",
       "9  29335293435  "
      ]
     },
     "execution_count": 138,
     "metadata": {},
     "output_type": "execute_result"
    }
   ],
   "source": [
    "df_info.head(10)"
   ]
  },
  {
   "cell_type": "markdown",
   "id": "2bfccc92-8b91-4fb8-afa2-51037c6b11c1",
   "metadata": {},
   "source": [
    "# Checking the Null values in dataframe"
   ]
  },
  {
   "cell_type": "code",
   "execution_count": 139,
   "id": "aedaf6a1-7819-4d88-99f8-5245d5de13bd",
   "metadata": {},
   "outputs": [
    {
     "data": {
      "text/plain": [
       "Date         0\n",
       "Open         0\n",
       "High         0\n",
       "Low          0\n",
       "Close        0\n",
       "Adj Close    0\n",
       "Volume       0\n",
       "dtype: int64"
      ]
     },
     "execution_count": 139,
     "metadata": {},
     "output_type": "execute_result"
    }
   ],
   "source": [
    "df_info.isnull().sum()"
   ]
  },
  {
   "cell_type": "markdown",
   "id": "6ab7fd21-a40d-4871-8d97-419f6bc88c7e",
   "metadata": {},
   "source": [
    "# Check the type of the columns"
   ]
  },
  {
   "cell_type": "code",
   "execution_count": 140,
   "id": "155912f9-4706-431b-b779-09def5765bfe",
   "metadata": {},
   "outputs": [
    {
     "data": {
      "text/plain": [
       "Date          object\n",
       "Open         float64\n",
       "High         float64\n",
       "Low          float64\n",
       "Close        float64\n",
       "Adj Close    float64\n",
       "Volume         int64\n",
       "dtype: object"
      ]
     },
     "execution_count": 140,
     "metadata": {},
     "output_type": "execute_result"
    }
   ],
   "source": [
    "df_info.dtypes"
   ]
  },
  {
   "cell_type": "markdown",
   "id": "6459d92d-aebb-421f-bf10-c5fa55dd2e4f",
   "metadata": {},
   "source": [
    "# Drop the un-necessary columns from dataframe"
   ]
  },
  {
   "cell_type": "code",
   "execution_count": 141,
   "id": "32dd7652-0b3a-40f8-a3a7-507e987ee9fb",
   "metadata": {},
   "outputs": [],
   "source": [
    "df_info.drop(columns = ['Adj Close'],inplace = True)"
   ]
  },
  {
   "cell_type": "markdown",
   "id": "c9c67c4a-088b-4a9d-8032-d01e2325dd29",
   "metadata": {},
   "source": [
    "# Check the description of data in the dataframe "
   ]
  },
  {
   "cell_type": "code",
   "execution_count": 142,
   "id": "3f8c4d5b-0480-471d-bdbb-2c5f84d021dc",
   "metadata": {},
   "outputs": [
    {
     "data": {
      "text/html": [
       "<div>\n",
       "<style scoped>\n",
       "    .dataframe tbody tr th:only-of-type {\n",
       "        vertical-align: middle;\n",
       "    }\n",
       "\n",
       "    .dataframe tbody tr th {\n",
       "        vertical-align: top;\n",
       "    }\n",
       "\n",
       "    .dataframe thead th {\n",
       "        text-align: right;\n",
       "    }\n",
       "</style>\n",
       "<table border=\"1\" class=\"dataframe\">\n",
       "  <thead>\n",
       "    <tr style=\"text-align: right;\">\n",
       "      <th></th>\n",
       "      <th>Open</th>\n",
       "      <th>High</th>\n",
       "      <th>Low</th>\n",
       "      <th>Close</th>\n",
       "      <th>Volume</th>\n",
       "    </tr>\n",
       "  </thead>\n",
       "  <tbody>\n",
       "    <tr>\n",
       "      <th>count</th>\n",
       "      <td>367.000000</td>\n",
       "      <td>367.000000</td>\n",
       "      <td>367.000000</td>\n",
       "      <td>367.000000</td>\n",
       "      <td>3.670000e+02</td>\n",
       "    </tr>\n",
       "    <tr>\n",
       "      <th>mean</th>\n",
       "      <td>26895.748117</td>\n",
       "      <td>27384.710528</td>\n",
       "      <td>26501.109817</td>\n",
       "      <td>26992.170923</td>\n",
       "      <td>1.568181e+10</td>\n",
       "    </tr>\n",
       "    <tr>\n",
       "      <th>std</th>\n",
       "      <td>7089.886850</td>\n",
       "      <td>7354.893598</td>\n",
       "      <td>6920.547509</td>\n",
       "      <td>7210.168466</td>\n",
       "      <td>9.490215e+09</td>\n",
       "    </tr>\n",
       "    <tr>\n",
       "      <th>min</th>\n",
       "      <td>16777.095700</td>\n",
       "      <td>17084.267580</td>\n",
       "      <td>16391.437500</td>\n",
       "      <td>16776.568360</td>\n",
       "      <td>4.370890e+09</td>\n",
       "    </tr>\n",
       "    <tr>\n",
       "      <th>25%</th>\n",
       "      <td>21958.482420</td>\n",
       "      <td>22295.600585</td>\n",
       "      <td>21684.948240</td>\n",
       "      <td>21986.031250</td>\n",
       "      <td>9.798582e+09</td>\n",
       "    </tr>\n",
       "    <tr>\n",
       "      <th>50%</th>\n",
       "      <td>23264.390630</td>\n",
       "      <td>23664.472660</td>\n",
       "      <td>23094.728520</td>\n",
       "      <td>23306.751950</td>\n",
       "      <td>1.298494e+10</td>\n",
       "    </tr>\n",
       "    <tr>\n",
       "      <th>75%</th>\n",
       "      <td>31992.222655</td>\n",
       "      <td>32955.486325</td>\n",
       "      <td>31399.831055</td>\n",
       "      <td>32552.224610</td>\n",
       "      <td>1.833329e+10</td>\n",
       "    </tr>\n",
       "    <tr>\n",
       "      <th>max</th>\n",
       "      <td>53855.898440</td>\n",
       "      <td>54437.863280</td>\n",
       "      <td>53191.746090</td>\n",
       "      <td>53847.511720</td>\n",
       "      <td>8.091722e+10</td>\n",
       "    </tr>\n",
       "  </tbody>\n",
       "</table>\n",
       "</div>"
      ],
      "text/plain": [
       "               Open          High           Low         Close        Volume\n",
       "count    367.000000    367.000000    367.000000    367.000000  3.670000e+02\n",
       "mean   26895.748117  27384.710528  26501.109817  26992.170923  1.568181e+10\n",
       "std     7089.886850   7354.893598   6920.547509   7210.168466  9.490215e+09\n",
       "min    16777.095700  17084.267580  16391.437500  16776.568360  4.370890e+09\n",
       "25%    21958.482420  22295.600585  21684.948240  21986.031250  9.798582e+09\n",
       "50%    23264.390630  23664.472660  23094.728520  23306.751950  1.298494e+10\n",
       "75%    31992.222655  32955.486325  31399.831055  32552.224610  1.833329e+10\n",
       "max    53855.898440  54437.863280  53191.746090  53847.511720  8.091722e+10"
      ]
     },
     "execution_count": 142,
     "metadata": {},
     "output_type": "execute_result"
    }
   ],
   "source": [
    "df_info.describe()"
   ]
  },
  {
   "cell_type": "markdown",
   "id": "74d38de7-a137-45ee-b7e6-d5959d515d11",
   "metadata": {},
   "source": [
    "# Convert the datetime object to datetime type"
   ]
  },
  {
   "cell_type": "code",
   "execution_count": 143,
   "id": "bb1d4712-a37f-43ce-b64a-fb9f311e986d",
   "metadata": {},
   "outputs": [],
   "source": [
    "df_info['Date'] = pd.to_datetime(df_info['Date'])"
   ]
  },
  {
   "cell_type": "code",
   "execution_count": 144,
   "id": "aab2d604-9f2e-4a0b-b767-11112e2a26f7",
   "metadata": {},
   "outputs": [
    {
     "data": {
      "text/html": [
       "<div>\n",
       "<style scoped>\n",
       "    .dataframe tbody tr th:only-of-type {\n",
       "        vertical-align: middle;\n",
       "    }\n",
       "\n",
       "    .dataframe tbody tr th {\n",
       "        vertical-align: top;\n",
       "    }\n",
       "\n",
       "    .dataframe thead th {\n",
       "        text-align: right;\n",
       "    }\n",
       "</style>\n",
       "<table border=\"1\" class=\"dataframe\">\n",
       "  <thead>\n",
       "    <tr style=\"text-align: right;\">\n",
       "      <th></th>\n",
       "      <th>Date</th>\n",
       "      <th>Open</th>\n",
       "      <th>High</th>\n",
       "      <th>Low</th>\n",
       "      <th>Close</th>\n",
       "      <th>Volume</th>\n",
       "    </tr>\n",
       "  </thead>\n",
       "  <tbody>\n",
       "    <tr>\n",
       "      <th>0</th>\n",
       "      <td>2023-03-10</td>\n",
       "      <td>18330.46484</td>\n",
       "      <td>18399.70508</td>\n",
       "      <td>16955.90234</td>\n",
       "      <td>17079.11719</td>\n",
       "      <td>25467815509</td>\n",
       "    </tr>\n",
       "    <tr>\n",
       "      <th>1</th>\n",
       "      <td>2023-03-11</td>\n",
       "      <td>17082.45703</td>\n",
       "      <td>17084.26758</td>\n",
       "      <td>16391.43750</td>\n",
       "      <td>16776.56836</td>\n",
       "      <td>32891431901</td>\n",
       "    </tr>\n",
       "    <tr>\n",
       "      <th>2</th>\n",
       "      <td>2023-03-12</td>\n",
       "      <td>16777.09570</td>\n",
       "      <td>17278.15234</td>\n",
       "      <td>16676.63477</td>\n",
       "      <td>17145.09961</td>\n",
       "      <td>25079185688</td>\n",
       "    </tr>\n",
       "    <tr>\n",
       "      <th>3</th>\n",
       "      <td>2023-03-13</td>\n",
       "      <td>17141.45898</td>\n",
       "      <td>18371.42383</td>\n",
       "      <td>16992.52930</td>\n",
       "      <td>18353.96680</td>\n",
       "      <td>24245969315</td>\n",
       "    </tr>\n",
       "    <tr>\n",
       "      <th>4</th>\n",
       "      <td>2023-03-14</td>\n",
       "      <td>18347.72070</td>\n",
       "      <td>20165.61523</td>\n",
       "      <td>18169.72656</td>\n",
       "      <td>19887.22656</td>\n",
       "      <td>40654919503</td>\n",
       "    </tr>\n",
       "  </tbody>\n",
       "</table>\n",
       "</div>"
      ],
      "text/plain": [
       "        Date         Open         High          Low        Close       Volume\n",
       "0 2023-03-10  18330.46484  18399.70508  16955.90234  17079.11719  25467815509\n",
       "1 2023-03-11  17082.45703  17084.26758  16391.43750  16776.56836  32891431901\n",
       "2 2023-03-12  16777.09570  17278.15234  16676.63477  17145.09961  25079185688\n",
       "3 2023-03-13  17141.45898  18371.42383  16992.52930  18353.96680  24245969315\n",
       "4 2023-03-14  18347.72070  20165.61523  18169.72656  19887.22656  40654919503"
      ]
     },
     "execution_count": 144,
     "metadata": {},
     "output_type": "execute_result"
    }
   ],
   "source": [
    "df_info.head(5)"
   ]
  },
  {
   "cell_type": "code",
   "execution_count": 145,
   "id": "8c940802-af0a-4780-b90a-8df7ee646921",
   "metadata": {},
   "outputs": [],
   "source": [
    "df_info_updated = df_info.copy()\n",
    "df_info_updated.set_index('Date',inplace = True)"
   ]
  },
  {
   "cell_type": "code",
   "execution_count": 146,
   "id": "f1da4dd3-7019-4604-bca4-f50fa24551a3",
   "metadata": {},
   "outputs": [
    {
     "data": {
      "text/html": [
       "<div>\n",
       "<style scoped>\n",
       "    .dataframe tbody tr th:only-of-type {\n",
       "        vertical-align: middle;\n",
       "    }\n",
       "\n",
       "    .dataframe tbody tr th {\n",
       "        vertical-align: top;\n",
       "    }\n",
       "\n",
       "    .dataframe thead th {\n",
       "        text-align: right;\n",
       "    }\n",
       "</style>\n",
       "<table border=\"1\" class=\"dataframe\">\n",
       "  <thead>\n",
       "    <tr style=\"text-align: right;\">\n",
       "      <th></th>\n",
       "      <th>Open</th>\n",
       "      <th>High</th>\n",
       "      <th>Low</th>\n",
       "      <th>Close</th>\n",
       "      <th>Volume</th>\n",
       "    </tr>\n",
       "    <tr>\n",
       "      <th>Date</th>\n",
       "      <th></th>\n",
       "      <th></th>\n",
       "      <th></th>\n",
       "      <th></th>\n",
       "      <th></th>\n",
       "    </tr>\n",
       "  </thead>\n",
       "  <tbody>\n",
       "    <tr>\n",
       "      <th>2023-03-10</th>\n",
       "      <td>18330.46484</td>\n",
       "      <td>18399.70508</td>\n",
       "      <td>16955.90234</td>\n",
       "      <td>17079.11719</td>\n",
       "      <td>25467815509</td>\n",
       "    </tr>\n",
       "    <tr>\n",
       "      <th>2023-03-11</th>\n",
       "      <td>17082.45703</td>\n",
       "      <td>17084.26758</td>\n",
       "      <td>16391.43750</td>\n",
       "      <td>16776.56836</td>\n",
       "      <td>32891431901</td>\n",
       "    </tr>\n",
       "    <tr>\n",
       "      <th>2023-03-12</th>\n",
       "      <td>16777.09570</td>\n",
       "      <td>17278.15234</td>\n",
       "      <td>16676.63477</td>\n",
       "      <td>17145.09961</td>\n",
       "      <td>25079185688</td>\n",
       "    </tr>\n",
       "    <tr>\n",
       "      <th>2023-03-13</th>\n",
       "      <td>17141.45898</td>\n",
       "      <td>18371.42383</td>\n",
       "      <td>16992.52930</td>\n",
       "      <td>18353.96680</td>\n",
       "      <td>24245969315</td>\n",
       "    </tr>\n",
       "    <tr>\n",
       "      <th>2023-03-14</th>\n",
       "      <td>18347.72070</td>\n",
       "      <td>20165.61523</td>\n",
       "      <td>18169.72656</td>\n",
       "      <td>19887.22656</td>\n",
       "      <td>40654919503</td>\n",
       "    </tr>\n",
       "    <tr>\n",
       "      <th>2023-03-15</th>\n",
       "      <td>19890.70508</td>\n",
       "      <td>21756.46484</td>\n",
       "      <td>19811.30078</td>\n",
       "      <td>20365.50000</td>\n",
       "      <td>44952948358</td>\n",
       "    </tr>\n",
       "    <tr>\n",
       "      <th>2023-03-16</th>\n",
       "      <td>20385.95117</td>\n",
       "      <td>20887.69531</td>\n",
       "      <td>19940.31445</td>\n",
       "      <td>20199.99414</td>\n",
       "      <td>36176824956</td>\n",
       "    </tr>\n",
       "    <tr>\n",
       "      <th>2023-03-17</th>\n",
       "      <td>20197.91797</td>\n",
       "      <td>20780.91211</td>\n",
       "      <td>20066.91992</td>\n",
       "      <td>20687.96680</td>\n",
       "      <td>27965747139</td>\n",
       "    </tr>\n",
       "    <tr>\n",
       "      <th>2023-03-18</th>\n",
       "      <td>20689.89453</td>\n",
       "      <td>22810.54297</td>\n",
       "      <td>20617.28711</td>\n",
       "      <td>22512.30469</td>\n",
       "      <td>41644471530</td>\n",
       "    </tr>\n",
       "    <tr>\n",
       "      <th>2023-03-19</th>\n",
       "      <td>22532.16016</td>\n",
       "      <td>22759.76367</td>\n",
       "      <td>21873.35156</td>\n",
       "      <td>22144.02930</td>\n",
       "      <td>29335293435</td>\n",
       "    </tr>\n",
       "  </tbody>\n",
       "</table>\n",
       "</div>"
      ],
      "text/plain": [
       "                   Open         High          Low        Close       Volume\n",
       "Date                                                                       \n",
       "2023-03-10  18330.46484  18399.70508  16955.90234  17079.11719  25467815509\n",
       "2023-03-11  17082.45703  17084.26758  16391.43750  16776.56836  32891431901\n",
       "2023-03-12  16777.09570  17278.15234  16676.63477  17145.09961  25079185688\n",
       "2023-03-13  17141.45898  18371.42383  16992.52930  18353.96680  24245969315\n",
       "2023-03-14  18347.72070  20165.61523  18169.72656  19887.22656  40654919503\n",
       "2023-03-15  19890.70508  21756.46484  19811.30078  20365.50000  44952948358\n",
       "2023-03-16  20385.95117  20887.69531  19940.31445  20199.99414  36176824956\n",
       "2023-03-17  20197.91797  20780.91211  20066.91992  20687.96680  27965747139\n",
       "2023-03-18  20689.89453  22810.54297  20617.28711  22512.30469  41644471530\n",
       "2023-03-19  22532.16016  22759.76367  21873.35156  22144.02930  29335293435"
      ]
     },
     "execution_count": 146,
     "metadata": {},
     "output_type": "execute_result"
    }
   ],
   "source": [
    "df_info_updated.head(10)"
   ]
  },
  {
   "cell_type": "markdown",
   "id": "c212d44b-ae98-4c5e-9802-af18495d2bd7",
   "metadata": {},
   "source": [
    "# Exploratory Data Analysis Process"
   ]
  },
  {
   "cell_type": "code",
   "execution_count": 147,
   "id": "5dce20d6-fb05-4421-ab1e-bc57e548f18f",
   "metadata": {},
   "outputs": [
    {
     "data": {
      "text/plain": [
       "[<matplotlib.lines.Line2D at 0x235d54b87d0>]"
      ]
     },
     "execution_count": 147,
     "metadata": {},
     "output_type": "execute_result"
    },
    {
     "data": {
      "image/png": "[encoded data removed]",
      "text/plain": [
       "<Figure size 800x500 with 1 Axes>"
      ]
     },
     "metadata": {},
     "output_type": "display_data"
    }
   ],
   "source": [
    "ax = plt.figure(figsize = (8,5))\n",
    "plt.ylabel('BTC Price in GBP')\n",
    "plt.xlabel('Date')\n",
    "plt.xticks(rotation = 45)\n",
    "plt.plot(df_info_updated.index, df_info_updated['Close'],)"
   ]
  },
  {
   "cell_type": "markdown",
   "id": "733ea544-54b4-4e99-ad45-f8901116e926",
   "metadata": {},
   "source": [
    "# Select the X, Y features"
   ]
  },
  {
   "cell_type": "code",
   "execution_count": 148,
   "id": "3a865f9d-a48f-49ce-a776-3e73162e7b86",
   "metadata": {},
   "outputs": [],
   "source": [
    "X = df_info[['Open','High','Low','Volume']]\n",
    "y = np.array(df_info[['Close']])"
   ]
  },
  {
   "cell_type": "markdown",
   "id": "b94ca70b-a128-4350-ba6d-91c12ac3ffce",
   "metadata": {},
   "source": [
    "# Split the data into train and test data"
   ]
  },
  {
   "cell_type": "code",
   "execution_count": 149,
   "id": "45bd1f51-91df-476d-bac1-42cb6218b845",
   "metadata": {},
   "outputs": [],
   "source": [
    "X_train,X_test, y_train, y_test = model_selection.train_test_split(X,y, test_size = 0.20, random_state = 42)"
   ]
  },
  {
   "cell_type": "markdown",
   "id": "29a58862-29c2-49ab-9fe9-f94985d85869",
   "metadata": {},
   "source": [
    "# Scale the data so that all columns are in same units"
   ]
  },
  {
   "cell_type": "code",
   "execution_count": 150,
   "id": "ea672a6c-5471-4db3-ba03-9afbbb1e2a12",
   "metadata": {},
   "outputs": [],
   "source": [
    "#sc = preprocessing.StandardScaler()\n",
    "#X = sc.fit_transform(X)"
   ]
  },
  {
   "cell_type": "code",
   "execution_count": 151,
   "id": "d71c777a-fb6f-4f12-8e97-1b0e9d98ed2c",
   "metadata": {},
   "outputs": [
    {
     "data": {
      "text/html": [
       "<div>\n",
       "<style scoped>\n",
       "    .dataframe tbody tr th:only-of-type {\n",
       "        vertical-align: middle;\n",
       "    }\n",
       "\n",
       "    .dataframe tbody tr th {\n",
       "        vertical-align: top;\n",
       "    }\n",
       "\n",
       "    .dataframe thead th {\n",
       "        text-align: right;\n",
       "    }\n",
       "</style>\n",
       "<table border=\"1\" class=\"dataframe\">\n",
       "  <thead>\n",
       "    <tr style=\"text-align: right;\">\n",
       "      <th></th>\n",
       "      <th>Open</th>\n",
       "      <th>High</th>\n",
       "      <th>Low</th>\n",
       "      <th>Volume</th>\n",
       "    </tr>\n",
       "  </thead>\n",
       "  <tbody>\n",
       "    <tr>\n",
       "      <th>0</th>\n",
       "      <td>18330.46484</td>\n",
       "      <td>18399.70508</td>\n",
       "      <td>16955.90234</td>\n",
       "      <td>25467815509</td>\n",
       "    </tr>\n",
       "    <tr>\n",
       "      <th>1</th>\n",
       "      <td>17082.45703</td>\n",
       "      <td>17084.26758</td>\n",
       "      <td>16391.43750</td>\n",
       "      <td>32891431901</td>\n",
       "    </tr>\n",
       "    <tr>\n",
       "      <th>2</th>\n",
       "      <td>16777.09570</td>\n",
       "      <td>17278.15234</td>\n",
       "      <td>16676.63477</td>\n",
       "      <td>25079185688</td>\n",
       "    </tr>\n",
       "    <tr>\n",
       "      <th>3</th>\n",
       "      <td>17141.45898</td>\n",
       "      <td>18371.42383</td>\n",
       "      <td>16992.52930</td>\n",
       "      <td>24245969315</td>\n",
       "    </tr>\n",
       "    <tr>\n",
       "      <th>4</th>\n",
       "      <td>18347.72070</td>\n",
       "      <td>20165.61523</td>\n",
       "      <td>18169.72656</td>\n",
       "      <td>40654919503</td>\n",
       "    </tr>\n",
       "    <tr>\n",
       "      <th>...</th>\n",
       "      <td>...</td>\n",
       "      <td>...</td>\n",
       "      <td>...</td>\n",
       "      <td>...</td>\n",
       "    </tr>\n",
       "    <tr>\n",
       "      <th>362</th>\n",
       "      <td>53855.89844</td>\n",
       "      <td>54367.62891</td>\n",
       "      <td>46703.81641</td>\n",
       "      <td>80917222794</td>\n",
       "    </tr>\n",
       "    <tr>\n",
       "      <th>363</th>\n",
       "      <td>50198.76953</td>\n",
       "      <td>53187.08594</td>\n",
       "      <td>49486.60547</td>\n",
       "      <td>53981648615</td>\n",
       "    </tr>\n",
       "    <tr>\n",
       "      <th>364</th>\n",
       "      <td>51900.52734</td>\n",
       "      <td>53177.42188</td>\n",
       "      <td>51557.91406</td>\n",
       "      <td>36673082938</td>\n",
       "    </tr>\n",
       "    <tr>\n",
       "      <th>365</th>\n",
       "      <td>52241.96875</td>\n",
       "      <td>54429.58203</td>\n",
       "      <td>51493.31641</td>\n",
       "      <td>46043619963</td>\n",
       "    </tr>\n",
       "    <tr>\n",
       "      <th>366</th>\n",
       "      <td>53249.14453</td>\n",
       "      <td>54437.86328</td>\n",
       "      <td>53191.74609</td>\n",
       "      <td>25932195840</td>\n",
       "    </tr>\n",
       "  </tbody>\n",
       "</table>\n",
       "<p>367 rows × 4 columns</p>\n",
       "</div>"
      ],
      "text/plain": [
       "            Open         High          Low       Volume\n",
       "0    18330.46484  18399.70508  16955.90234  25467815509\n",
       "1    17082.45703  17084.26758  16391.43750  32891431901\n",
       "2    16777.09570  17278.15234  16676.63477  25079185688\n",
       "3    17141.45898  18371.42383  16992.52930  24245969315\n",
       "4    18347.72070  20165.61523  18169.72656  40654919503\n",
       "..           ...          ...          ...          ...\n",
       "362  53855.89844  54367.62891  46703.81641  80917222794\n",
       "363  50198.76953  53187.08594  49486.60547  53981648615\n",
       "364  51900.52734  53177.42188  51557.91406  36673082938\n",
       "365  52241.96875  54429.58203  51493.31641  46043619963\n",
       "366  53249.14453  54437.86328  53191.74609  25932195840\n",
       "\n",
       "[367 rows x 4 columns]"
      ]
     },
     "execution_count": 151,
     "metadata": {},
     "output_type": "execute_result"
    }
   ],
   "source": [
    "X"
   ]
  },
  {
   "cell_type": "markdown",
   "id": "dd1b247f-35f7-4b21-98ee-21f1761da4e4",
   "metadata": {},
   "source": [
    "# Build the Linear Regresion Model"
   ]
  },
  {
   "cell_type": "code",
   "execution_count": 157,
   "id": "ba47177c-27f4-4c26-9d55-c3a512f4b592",
   "metadata": {},
   "outputs": [
    {
     "data": {
      "text/html": [
       "<style>#sk-container-id-7 {color: black;background-color: white;}#sk-container-id-7 pre{padding: 0;}#sk-container-id-7 div.sk-toggleable {background-color: white;}#sk-container-id-7 label.sk-toggleable__label {cursor: pointer;display: block;width: 100%;margin-bottom: 0;padding: 0.3em;box-sizing: border-box;text-align: center;}#sk-container-id-7 label.sk-toggleable__label-arrow:before {content: \"▸\";float: left;margin-right: 0.25em;color: #696969;}#sk-container-id-7 label.sk-toggleable__label-arrow:hover:before {color: black;}#sk-container-id-7 div.sk-estimator:hover label.sk-toggleable__label-arrow:before {color: black;}#sk-container-id-7 div.sk-toggleable__content {max-height: 0;max-width: 0;overflow: hidden;text-align: left;background-color: #f0f8ff;}#sk-container-id-7 div.sk-toggleable__content pre {margin: 0.2em;color: black;border-radius: 0.25em;background-color: #f0f8ff;}#sk-container-id-7 input.sk-toggleable__control:checked~div.sk-toggleable__content {max-height: 200px;max-width: 100%;overflow: auto;}#sk-container-id-7 input.sk-toggleable__control:checked~label.sk-toggleable__label-arrow:before {content: \"▾\";}#sk-container-id-7 div.sk-estimator input.sk-toggleable__control:checked~label.sk-toggleable__label {background-color: #d4ebff;}#sk-container-id-7 div.sk-label input.sk-toggleable__control:checked~label.sk-toggleable__label {background-color: #d4ebff;}#sk-container-id-7 input.sk-hidden--visually {border: 0;clip: rect(1px 1px 1px 1px);clip: rect(1px, 1px, 1px, 1px);height: 1px;margin: -1px;overflow: hidden;padding: 0;position: absolute;width: 1px;}#sk-container-id-7 div.sk-estimator {font-family: monospace;background-color: #f0f8ff;border: 1px dotted black;border-radius: 0.25em;box-sizing: border-box;margin-bottom: 0.5em;}#sk-container-id-7 div.sk-estimator:hover {background-color: #d4ebff;}#sk-container-id-7 div.sk-parallel-item::after {content: \"\";width: 100%;border-bottom: 1px solid gray;flex-grow: 1;}#sk-container-id-7 div.sk-label:hover label.sk-toggleable__label {background-color: #d4ebff;}#sk-container-id-7 div.sk-serial::before {content: \"\";position: absolute;border-left: 1px solid gray;box-sizing: border-box;top: 0;bottom: 0;left: 50%;z-index: 0;}#sk-container-id-7 div.sk-serial {display: flex;flex-direction: column;align-items: center;background-color: white;padding-right: 0.2em;padding-left: 0.2em;position: relative;}#sk-container-id-7 div.sk-item {position: relative;z-index: 1;}#sk-container-id-7 div.sk-parallel {display: flex;align-items: stretch;justify-content: center;background-color: white;position: relative;}#sk-container-id-7 div.sk-item::before, #sk-container-id-7 div.sk-parallel-item::before {content: \"\";position: absolute;border-left: 1px solid gray;box-sizing: border-box;top: 0;bottom: 0;left: 50%;z-index: -1;}#sk-container-id-7 div.sk-parallel-item {display: flex;flex-direction: column;z-index: 1;position: relative;background-color: white;}#sk-container-id-7 div.sk-parallel-item:first-child::after {align-self: flex-end;width: 50%;}#sk-container-id-7 div.sk-parallel-item:last-child::after {align-self: flex-start;width: 50%;}#sk-container-id-7 div.sk-parallel-item:only-child::after {width: 0;}#sk-container-id-7 div.sk-dashed-wrapped {border: 1px dashed gray;margin: 0 0.4em 0.5em 0.4em;box-sizing: border-box;padding-bottom: 0.4em;background-color: white;}#sk-container-id-7 div.sk-label label {font-family: monospace;font-weight: bold;display: inline-block;line-height: 1.2em;}#sk-container-id-7 div.sk-label-container {text-align: center;}#sk-container-id-7 div.sk-container {/* jupyter's `normalize.less` sets `[hidden] { display: none; }` but bootstrap.min.css set `[hidden] { display: none !important; }` so we also need the `!important` here to be able to override the default hidden behavior on the sphinx rendered scikit-learn.org. See: https://github.com/scikit-learn/scikit-learn/issues/21755 */display: inline-block !important;position: relative;}#sk-container-id-7 div.sk-text-repr-fallback {display: none;}</style><div id=\"sk-container-id-7\" class=\"sk-top-container\"><div class=\"sk-text-repr-fallback\"><pre>LinearRegression()</pre><b>In a Jupyter environment, please rerun this cell to show the HTML representation or trust the notebook. <br />On GitHub, the HTML representation is unable to render, please try loading this page with nbviewer.org.</b></div><div class=\"sk-container\" hidden><div class=\"sk-item\"><div class=\"sk-estimator sk-toggleable\"><input class=\"sk-toggleable__control sk-hidden--visually\" id=\"sk-estimator-id-7\" type=\"checkbox\" checked><label for=\"sk-estimator-id-7\" class=\"sk-toggleable__label sk-toggleable__label-arrow\">LinearRegression</label><div class=\"sk-toggleable__content\"><pre>LinearRegression()</pre></div></div></div></div></div>"
      ],
      "text/plain": [
       "LinearRegression()"
      ]
     },
     "execution_count": 157,
     "metadata": {},
     "output_type": "execute_result"
    }
   ],
   "source": [
    "lm = LinearRegression()\n",
    "lm.fit(X_train, y_train)"
   ]
  },
  {
   "cell_type": "markdown",
   "id": "565ee2bd-bfe1-42c9-9a93-f8de0f2409fe",
   "metadata": {},
   "source": [
    "# Predict the Model"
   ]
  },
  {
   "cell_type": "code",
   "execution_count": 158,
   "id": "e8927f3d-fdc9-4134-974a-a2e8b2595316",
   "metadata": {},
   "outputs": [],
   "source": [
    "y_predict = lm.predict(X_test)"
   ]
  },
  {
   "cell_type": "markdown",
   "id": "cff665b8-3bc6-4654-b145-2165019c7f66",
   "metadata": {},
   "source": [
    "# Evaluate the Model"
   ]
  },
  {
   "cell_type": "code",
   "execution_count": 159,
   "id": "fa46254e-3861-4717-8adf-194dd6990d2a",
   "metadata": {},
   "outputs": [
    {
     "name": "stdout",
     "output_type": "stream",
     "text": [
      "The R-squared or regression score is: 0.999\n",
      "The mean absolute error is 178.733\n",
      "The mean squared error is 74399.492\n",
      "The root mean squared error is 272.763\n"
     ]
    }
   ],
   "source": [
    "print('The R-squared or regression score is: {:.3f}'.format(metrics.r2_score(y_test,y_predict)))\n",
    "print('The mean absolute error is {:.3f}'.format(metrics.mean_absolute_error(y_test,y_predict)))\n",
    "print('The mean squared error is {:.3f}'.format(metrics.mean_squared_error(y_test,y_predict)))\n",
    "print('The root mean squared error is {:.3f}'.format(np.sqrt(metrics.mean_squared_error(y_test,y_predict))))"
   ]
  },
  {
   "cell_type": "markdown",
   "id": "e51e8ab9-f096-411c-878a-c78a65382201",
   "metadata": {},
   "source": [
    "# Create a dataframe with Actual and Predicted values"
   ]
  },
  {
   "cell_type": "code",
   "execution_count": 178,
   "id": "1ff9a7c4-24d6-4c39-9e9a-4e53ced5bced",
   "metadata": {},
   "outputs": [
    {
     "data": {
      "text/html": [
       "<div>\n",
       "<style scoped>\n",
       "    .dataframe tbody tr th:only-of-type {\n",
       "        vertical-align: middle;\n",
       "    }\n",
       "\n",
       "    .dataframe tbody tr th {\n",
       "        vertical-align: top;\n",
       "    }\n",
       "\n",
       "    .dataframe thead th {\n",
       "        text-align: right;\n",
       "    }\n",
       "</style>\n",
       "<table border=\"1\" class=\"dataframe\">\n",
       "  <thead>\n",
       "    <tr style=\"text-align: right;\">\n",
       "      <th></th>\n",
       "      <th>Actual_Price</th>\n",
       "      <th>Predicted_Price</th>\n",
       "    </tr>\n",
       "  </thead>\n",
       "  <tbody>\n",
       "    <tr>\n",
       "      <th>0</th>\n",
       "      <td>21605.47266</td>\n",
       "      <td>21906.012373</td>\n",
       "    </tr>\n",
       "    <tr>\n",
       "      <th>1</th>\n",
       "      <td>24324.95117</td>\n",
       "      <td>24349.523085</td>\n",
       "    </tr>\n",
       "    <tr>\n",
       "      <th>2</th>\n",
       "      <td>22485.71289</td>\n",
       "      <td>22415.623525</td>\n",
       "    </tr>\n",
       "    <tr>\n",
       "      <th>3</th>\n",
       "      <td>32818.09766</td>\n",
       "      <td>33178.133306</td>\n",
       "    </tr>\n",
       "    <tr>\n",
       "      <th>4</th>\n",
       "      <td>23367.66406</td>\n",
       "      <td>23307.213274</td>\n",
       "    </tr>\n",
       "  </tbody>\n",
       "</table>\n",
       "</div>"
      ],
      "text/plain": [
       "   Actual_Price  Predicted_Price\n",
       "0   21605.47266     21906.012373\n",
       "1   24324.95117     24349.523085\n",
       "2   22485.71289     22415.623525\n",
       "3   32818.09766     33178.133306\n",
       "4   23367.66406     23307.213274"
      ]
     },
     "execution_count": 178,
     "metadata": {},
     "output_type": "execute_result"
    }
   ],
   "source": [
    "dfr = pd.DataFrame({'Actual_Price': y_test.flatten(),'Predicted_Price': y_predict.flatten()})\n",
    "dfr.head(5)"
   ]
  },
  {
   "cell_type": "markdown",
   "id": "835207cd-4d08-4b4e-bc24-93746946ecd5",
   "metadata": {},
   "source": [
    "# Calculate the Accuracy of the Model"
   ]
  },
  {
   "cell_type": "code",
   "execution_count": 168,
   "id": "7b47fefd-06c9-453d-a04b-f02ca767afd2",
   "metadata": {},
   "outputs": [
    {
     "name": "stdout",
     "output_type": "stream",
     "text": [
      "The accuracy of the model is  100.0306508227877\n"
     ]
    }
   ],
   "source": [
    "x2 = dfr['Actual_Price'].mean()\n",
    "y2 = dfr['Predicted_Price'].mean()\n",
    "Accuracy1 = x2/y2*100\n",
    "print(\"The accuracy of the model is \" , Accuracy1)"
   ]
  },
  {
   "cell_type": "markdown",
   "id": "6b4883d6-bb6c-4a2a-9f02-e20346d02d7d",
   "metadata": {},
   "source": [
    "# Scatter Plot the Actual and Predicted Price"
   ]
  },
  {
   "cell_type": "code",
   "execution_count": 169,
   "id": "2aa19456-ea36-471e-b341-506b409ca560",
   "metadata": {},
   "outputs": [
    {
     "data": {
      "image/png": "[encoded data removed]",
      "text/plain": [
       "<Figure size 640x480 with 1 Axes>"
      ]
     },
     "metadata": {},
     "output_type": "display_data"
    }
   ],
   "source": [
    "plt.scatter(dfr.Actual_Price, dfr.Predicted_Price,  color='Darkblue')\n",
    "plt.xlabel(\"Actual Price\")\n",
    "plt.ylabel(\"Predicted Price\")\n",
    "plt.show()"
   ]
  },
  {
   "cell_type": "code",
   "execution_count": 177,
   "id": "376fa36e-94ce-4575-8bc8-c3cec0b47bb3",
   "metadata": {},
   "outputs": [
    {
     "data": {
      "image/png": "[encoded data removed]",
      "text/plain": [
       "<Figure size 640x480 with 1 Axes>"
      ]
     },
     "metadata": {},
     "output_type": "display_data"
    }
   ],
   "source": [
    "plt.plot(dfr.Actual_Price, color='black')\n",
    "plt.plot(dfr.Predicted_Price, color='lightblue')\n",
    "plt.title(\"Prediction chart\")\n",
    "plt.show()"
   ]
  },
  {
   "cell_type": "markdown",
   "id": "492ce75b-9ce1-4056-9e63-42374eeae06a",
   "metadata": {},
   "source": [
    "# Conclusions: To have better visibility on where the market is going, relying on regression models and predicting certain values based on past performance is not good enough. Even though R-squareds is 99% which means Model is good at explaining the variation of Y values but higher value of MAE and RMSE showed that model is inaccurate in predicting the stock price. "
   ]
  },
  {
   "cell_type": "code",
   "execution_count": null,
   "id": "92ee7ef2-cca1-4052-925d-0fcff34fa98b",
   "metadata": {},
   "outputs": [],
   "source": []
  }
 ],
 "metadata": {
  "kernelspec": {
   "display_name": "Python 3 (ipykernel)",
   "language": "python",
   "name": "python3"
  },
  "language_info": {
   "codemirror_mode": {
    "name": "ipython",
    "version": 3
   },
   "file_extension": ".py",
   "mimetype": "text/x-python",
   "name": "python",
   "nbconvert_exporter": "python",
   "pygments_lexer": "ipython3",
   "version": "3.11.7"
  }
 },
 "nbformat": 4,
 "nbformat_minor": 5
}
